{
 "cells": [
  {
   "cell_type": "markdown",
   "id": "5c87fa6b-1c40-4231-bb5b-16b393ea26de",
   "metadata": {},
   "source": [
    "# Bursting the Burden Bubble?\n",
    "### An Assessment of Sharma et al.'s Counterfactual-based Fairness Metric\n",
    "\n",
    "This notebook shows the code used for the study 'Bursting the Burden Bubble?' by Sebastiaan Jans, Yochem van Rosmalen, Florian van der Steen, and Daan van der Weijden. It can be broken down into these parts:\n",
    "\n",
    "0. Imports\n",
    "1. Taiwan Data loading and preprocessing\n",
    "2. Synthetic Data creation\n",
    "3. Defining and training Classifiers OR loading them from checkpoints\n",
    "4. Defining CERTIFAI and generating counterfactuals OR loading it from checkpoint\n",
    "5. Burden results\n",
    "6. Visualizations as used in the paper"
   ]
  },
  {
   "cell_type": "markdown",
   "id": "ff8f2ab6-2632-4558-9457-1583e7d7a4cb",
   "metadata": {
    "tags": []
   },
   "source": [
    "### 0 Imports\n",
    "\n",
    "All needed packages can easily be installed by uncommenting the `pip install` command below."
   ]
  },
  {
   "cell_type": "code",
   "execution_count": 1,
   "id": "ac6b9a34-ef33-449a-acab-975c9086407b",
   "metadata": {},
   "outputs": [],
   "source": [
    "# !pip install -r 'requirements.txt' --quiet"
   ]
  },
  {
   "cell_type": "code",
   "execution_count": 2,
   "id": "cd20c5ce-24d2-4a26-b31b-3ea7f56a08da",
   "metadata": {},
   "outputs": [
    {
     "name": "stderr",
     "output_type": "stream",
     "text": [
      "/Users/yochem/.local/share/pyenv/versions/hcml/lib/python3.7/site-packages/tqdm/auto.py:22: TqdmWarning: IProgress not found. Please update jupyter and ipywidgets. See https://ipywidgets.readthedocs.io/en/stable/user_install.html\n",
      "  from .autonotebook import tqdm as notebook_tqdm\n"
     ]
    }
   ],
   "source": [
    "from collections import namedtuple\n",
    "import pickle\n",
    "\n",
    "import matplotlib.pyplot as plt\n",
    "import numpy as np\n",
    "import pandas as pd\n",
    "from sklearn.model_selection import train_test_split\n",
    "import torch\n",
    "from torch.utils.data import TensorDataset, DataLoader\n",
    "from tqdm import tqdm\n",
    "\n",
    "from CERTIFAI import CERTIFAI\n",
    "\n",
    "DATASET_NAMES = [\n",
    "    'syndata-A',\n",
    "    'syndata-B',\n",
    "    'syndata-C',\n",
    "    'taiwan',\n",
    "]\n",
    "CERTIFAI_INPUT_DATA = dict(zip(DATASET_NAMES, (\n",
    "    'data/syndata-A.csv',\n",
    "    'data/syndata-B.csv',\n",
    "    'data/syndata-C.csv',\n",
    "    'data/taiwan.csv',\n",
    ")))\n",
    "MODEL_PATHS = dict(zip(DATASET_NAMES, (\n",
    "    'models/LR-syndata-A.pt',\n",
    "    'models/LR-syndata-B.pt',\n",
    "    'models/LR-syndata-C.pt',\n",
    "    'models/LR-taiwan.pt',\n",
    ")))\n",
    "CERTIFAI_PICKLES = dict(zip(DATASET_NAMES, (\n",
    "    'models/cert-syndata-A.pt',\n",
    "    'models/cert-syndata-B.pt',\n",
    "    'models/cert-syndata-C.pt',\n",
    "    'models/cert-taiwan.pt',\n",
    ")))"
   ]
  },
  {
   "cell_type": "markdown",
   "id": "c9dec83f-fef5-4091-86f4-d1f21fe04a36",
   "metadata": {
    "tags": []
   },
   "source": [
    "### 1 Taiwan Data Loading and Preprocessing"
   ]
  },
  {
   "cell_type": "code",
   "execution_count": 3,
   "id": "eac8cfe0-3436-45db-a5ad-a50f2e51e432",
   "metadata": {},
   "outputs": [],
   "source": [
    "def sample_taiwan(N=1000):\n",
    "    # load original dataset\n",
    "    taiwan_input = pd.read_csv('data/taiwan-original.csv')\n",
    "\n",
    "    # create subset of data, N for size of subset\n",
    "    taiwan_input_N = taiwan_input.sample(N, random_state=34)\n",
    "\n",
    "    # reset indices\n",
    "    taiwan_input_N = taiwan_input_N.reset_index(drop=True)\n",
    "\n",
    "    # store sensitive attribute and labels\n",
    "    taiwan_sex = taiwan_input_N['SEX'].copy().to_numpy()\n",
    "    taiwan_labels = taiwan_input_N['default payment next month'].copy().to_numpy()\n",
    "\n",
    "    # dataframe without ID column and no sensitive features\n",
    "    taiwan_input_N = taiwan_input_N.drop(['ID', 'SEX', 'EDUCATION', 'MARRIAGE', 'AGE'], axis=1)\n",
    "\n",
    "    # rename labels to y\n",
    "    taiwan_input_N = taiwan_input_N.rename(columns={'default payment next month': 'y'})\n",
    "\n",
    "    # write subset of taiwan dataset, without sensitive attributes but with labels, to csv\n",
    "    taiwan_input_N.to_csv(CERTIFAI_INPUT_DATA['taiwan'], index=False)\n",
    "    # ensure last column is labels and second-last is sex, more precisely 's'\n",
    "    taiwan_input_N = taiwan_input_N.drop('y', axis=1)\n",
    "    taiwan_input_N['s'] = taiwan_sex % 2\n",
    "    taiwan_input_N['y'] = taiwan_labels\n",
    "\n",
    "    # convert to numpy\n",
    "    taiwan_input = taiwan_input_N.to_numpy()\n",
    "\n",
    "# sample_taiwan()\n",
    "taiwan_ds = pd.read_csv(CERTIFAI_INPUT_DATA['taiwan'], index_col=0).values\n",
    "taiwan_input, taiwan_labels = np.split(taiwan_ds, [-1], axis=1)\n",
    "taiwan_labels = taiwan_labels.reshape(-1)"
   ]
  },
  {
   "cell_type": "markdown",
   "id": "5e66fe06-3e2a-456d-9f6e-0234f470126a",
   "metadata": {},
   "source": [
    "### 2 Synthetic Data Creation\n",
    "\n",
    "The synthetic datasets are created using Numpy's random.normal() method."
   ]
  },
  {
   "cell_type": "code",
   "execution_count": 4,
   "id": "c2a5ea8d-8833-42e0-93f1-0ded4e5d9b1c",
   "metadata": {},
   "outputs": [],
   "source": [
    "def shifted_random_normal(locs, scale=1, *, sizes=80):\n",
    "    \"\"\"\n",
    "    Return an array of normally distributed random numbers around\n",
    "    loc with scale. The length of the array is N. Setting scale\n",
    "    to 0 returns exactly the values of locs.\n",
    "    \"\"\"\n",
    "    # all instances of even size\n",
    "    if isinstance(sizes, int):\n",
    "        sizes = [sizes//len(locs)] * len(locs)\n",
    "\n",
    "    assert len(sizes) == len(locs) and all([isinstance(s, int) for s in sizes])\n",
    "\n",
    "    parts = [np.random.normal(loc=loc, scale=scale, size=ps) for loc, ps in zip(locs, sizes)]\n",
    "    return np.concatenate(parts)\n",
    "\n",
    "def dataset_to_csv(X, y, filename):\n",
    "    \"\"\"\n",
    "    Convert dataset in CERTIFAI approved csv format and write to file.\n",
    "    \"\"\"\n",
    "    dataset = pd.DataFrame(np.insert(X[:,:2], 2, y, axis=1), columns=('x1', 'x2', 'y'))\n",
    "    # certifai had to make sure these were classes, not numbers\n",
    "    dataset.y = np.where(dataset.y == 0, 'a', 'b')\n",
    "    dataset.to_csv(filename, header=True, index=False)"
   ]
  },
  {
   "cell_type": "markdown",
   "id": "19fc1084-a3ef-4d09-a019-adf561649407",
   "metadata": {},
   "source": [
    "#### 2.2 Creating dataset $D_A$"
   ]
  },
  {
   "cell_type": "code",
   "execution_count": 5,
   "id": "3b3e4c7b-c0ee-4564-a3d8-779404165d08",
   "metadata": {},
   "outputs": [],
   "source": [
    "def create_DA():\n",
    "    x_1 = shifted_random_normal([1, 3.5, 9, 9])\n",
    "    x_2 = shifted_random_normal([9, 5, 1, 1])\n",
    "\n",
    "    # scale=0 makes sure it only draws the exact given number\n",
    "    # so it works the same as e.g. np.ones() * number\n",
    "    s = shifted_random_normal([0, 1, 0, 1], scale=0)\n",
    "    labels = shifted_random_normal([0, 1], scale=0)\n",
    "    return np.column_stack((x_1, x_2, s)), labels\n",
    "\n",
    "# DA_input, DA_labels = create_DA()\n",
    "s = create_DA()[0][:,2]\n",
    "DA = np.loadtxt(CERTIFAI_INPUT_DATA['syndata-A'], skiprows=1, dtype=object, delimiter=',')\n",
    "DA[:,2] = np.where(DA[:,2] == 'a', 0, 1)\n",
    "DA = DA.astype(float)\n",
    "DA = np.insert(DA, 2, s, axis=1)\n",
    "DA_input, DA_labels = np.split(DA, [-1], axis=1)\n",
    "DA_labels = DA_labels.reshape(-1)"
   ]
  },
  {
   "cell_type": "markdown",
   "id": "7d6a2859-8510-463d-98e5-4f8a110d1be6",
   "metadata": {},
   "source": [
    "##### 2.2.1 Write synthetic dataset $D_A$ to file"
   ]
  },
  {
   "cell_type": "code",
   "execution_count": 6,
   "id": "d8ff53d1-10da-4c80-89d2-12e23dc05208",
   "metadata": {},
   "outputs": [],
   "source": [
    "# uncomment to write new D_A to file\n",
    "# dataset_to_csv(X=DA_input, y=DA_labels, filename=CERTIFAI_INPUT_DATA['syndata-A'])"
   ]
  },
  {
   "cell_type": "markdown",
   "id": "ef9e32a7-2b07-47df-953f-9a699a81e7c5",
   "metadata": {},
   "source": [
    "#### 2.3 Creating Dataset $D_B$"
   ]
  },
  {
   "cell_type": "code",
   "execution_count": 7,
   "id": "b2044a1c-8b9e-4442-a821-3c8839db9b41",
   "metadata": {},
   "outputs": [],
   "source": [
    "def create_DB():\n",
    "    x_1 = shifted_random_normal([1, 3.5, 9, 9], sizes=[15, 15, 30, 20])\n",
    "    x_2 = shifted_random_normal([9, 5, 1, 1], sizes=[15, 15, 30, 20])\n",
    "\n",
    "    # scale=0 makes sure it only draws the exact given number\n",
    "    # so it works the same as e.g. np.ones() * number\n",
    "    s = shifted_random_normal([1, 0, 1, 0], scale=0, sizes=[15, 15, 30, 20])\n",
    "    labels = shifted_random_normal([0, 1], scale=0, sizes=[30, 50])\n",
    "    return np.column_stack((x_1, x_2, s)), labels\n",
    "\n",
    "s = create_DB()[0][:,2]\n",
    "DB = np.loadtxt(CERTIFAI_INPUT_DATA['syndata-B'], skiprows=1, dtype=object, delimiter=',')\n",
    "DB[:,2] = np.where(DB[:,2] == 'a', 0, 1)\n",
    "DB = DB.astype(float)\n",
    "DB = np.insert(DB, 2, s, axis=1)\n",
    "DB_input, DB_labels = np.split(DB, [-1], axis=1)\n",
    "DB_labels = DB_labels.reshape(-1)"
   ]
  },
  {
   "cell_type": "markdown",
   "id": "ba9b5890-9769-4c4e-b874-7b4fe5758dca",
   "metadata": {},
   "source": [
    "##### 2.3.1 Write synthetic dataset $D_B$ to file"
   ]
  },
  {
   "cell_type": "code",
   "execution_count": 8,
   "id": "4f5bc3d0-6803-4120-ba0f-93da60d722a2",
   "metadata": {},
   "outputs": [],
   "source": [
    "# uncomment to write new D_B to file\n",
    "# dataset_to_csv(X=DB_input, y=DB_labels, filename=CERTIFAI_INPUT_DATA['syndata-B'])"
   ]
  },
  {
   "cell_type": "markdown",
   "id": "09dc8d4a-3977-4863-a8e0-bbe15b258ad3",
   "metadata": {},
   "source": [
    "#### 2.4 Creating Dataset $D_C$"
   ]
  },
  {
   "cell_type": "code",
   "execution_count": 9,
   "id": "6b7c4247-1126-4f47-874f-8eebcee750d3",
   "metadata": {},
   "outputs": [
    {
     "name": "stdout",
     "output_type": "stream",
     "text": [
      "male,pos 30 9.239643322776153 0.8940534624676483\n",
      "female,neg 30 0.9470243435490293 9.10370219337596\n",
      "male,neg 10 1.7022660453894418 9.34480090736728\n",
      "female,pos 10 8.94947294354478 0.9628326045763352\n"
     ]
    }
   ],
   "source": [
    "def create_DC():\n",
    "    sizes = [30, 30, 10, 10]\n",
    "    x_1 = shifted_random_normal([9, 1, 1, 9], sizes=sizes)\n",
    "    x_2 = shifted_random_normal([1, 9, 9, 1], sizes=sizes)\n",
    "\n",
    "    # scale=0 makes sure it only draws the exact given number\n",
    "    # so it works the same as e.g. np.ones() * number\n",
    "    s = shifted_random_normal([1, 0, 1, 0], scale=0, sizes=sizes)\n",
    "    labels = shifted_random_normal([1, 0, 0, 1], scale=0, sizes=sizes)\n",
    "    return np.column_stack((x_1, x_2, s)), labels\n",
    "\n",
    "s = create_DC()\n",
    "dataset_to_csv(X=s[0], y=s[1], filename='data/syndata-C.csv')\n",
    "\n",
    "DC = np.loadtxt(CERTIFAI_INPUT_DATA['syndata-C'], skiprows=1, dtype=object, delimiter=',')\n",
    "DC[:,2] = np.where(DC[:,2] == 'a', 0, 1)\n",
    "DC = DC.astype(float)\n",
    "DC = np.insert(DC, 2, s[0][:,2], axis=1)\n",
    "DC_input, DC_labels = np.split(DC, [-1], axis=1)\n",
    "DC_labels = DC_labels.reshape(-1)\n",
    "\n",
    "\n",
    "print('male,pos',   len(DC[(DC[:,2] == 1) & (DC[:,3] == 1)]), np.mean(DC[:30,0]), np.mean(DC[:30,1]))\n",
    "print('female,neg', len(DC[(DC[:,2] == 0) & (DC[:,3] == 0)]), np.mean(DC[31:60,0]), np.mean(DC[31:60,1]))\n",
    "print('male,neg',   len(DC[(DC[:,2] == 1) & (DC[:,3] == 0)]), np.mean(DC[61:70,0]), np.mean(DC[61:70,1]))\n",
    "print('female,pos', len(DC[(DC[:,2] == 0) & (DC[:,3] == 1)]), np.mean(DC[71:,0]), np.mean(DC[71:,1]))"
   ]
  },
  {
   "cell_type": "markdown",
   "id": "d6c06be8-5022-40eb-8046-caefa62bdc10",
   "metadata": {},
   "source": [
    "##### 2.4.1 Write synthetic dataset $D_C$ to file"
   ]
  },
  {
   "cell_type": "code",
   "execution_count": 10,
   "id": "269a7e2b-c2ac-4b88-801b-23ea93efbaef",
   "metadata": {},
   "outputs": [],
   "source": [
    "# uncomment to write new D_C to file\n",
    "# dataset_to_csv(X=DC_input, y=DC_labels, filename=CERTIFAI_INPUT_DATA['syndata-C'])"
   ]
  },
  {
   "cell_type": "markdown",
   "id": "6895ff81-1ed0-49e7-9676-c1b9366c5f38",
   "metadata": {},
   "source": [
    "#### 2.5 Show Synthetic datasets"
   ]
  },
  {
   "cell_type": "code",
   "execution_count": 11,
   "id": "7397fdce-a0b1-46cc-bd70-99266f7eadae",
   "metadata": {},
   "outputs": [
    {
     "data": {
      "image/png": "[encoded data removed]",
      "text/plain": [
       "<Figure size 432x288 with 1 Axes>"
      ]
     },
     "metadata": {
      "needs_background": "light"
     },
     "output_type": "display_data"
    },
    {
     "data": {
      "image/png": "[encoded data removed]",
      "text/plain": [
       "<Figure size 432x288 with 1 Axes>"
      ]
     },
     "metadata": {
      "needs_background": "light"
     },
     "output_type": "display_data"
    },
    {
     "data": {
      "image/png": "[encoded data removed]",
      "text/plain": [
       "<Figure size 432x288 with 1 Axes>"
      ]
     },
     "metadata": {
      "needs_background": "light"
     },
     "output_type": "display_data"
    }
   ],
   "source": [
    "def show_synthetic_dataset(X, y, name):\n",
    "    \"\"\"\n",
    "    Not pretty, but just to create an intuition for the data.\n",
    "    \"\"\"\n",
    "    s0y0 = X[(X[:,2] == 0) & (y == 0)][:,:2]\n",
    "    s0y1 = X[(X[:,2] == 0) & (y == 1)][:,:2]\n",
    "    s1y0 = X[(X[:,2] == 1) & (y == 0)][:,:2]\n",
    "    s1y1 = X[(X[:,2] == 1) & (y == 1)][:,:2]\n",
    "\n",
    "    plt.scatter(s0y0[:,0], s0y0[:,1], color=\"blue\", marker=\"v\", label=\"$s=0,y=0$\")\n",
    "    plt.scatter(s0y1[:,0], s0y1[:,1], color=\"blue\", marker=\"s\", label=\"$s=0,y=1$\")\n",
    "    plt.scatter(s1y0[:,0], s1y0[:,1], color=\"orange\", marker=\"v\", label=\"$s=1,y=0$\")\n",
    "    plt.scatter(s1y1[:,0], s1y1[:,1], color=\"orange\", marker=\"s\", label=\"$s=1,y=1$\")\n",
    "\n",
    "    plt.title(f'The distribution of the synthetic input data ${name}$')\n",
    "    plt.xlabel('$x_1$')\n",
    "    plt.ylabel('$x_2$')\n",
    "    plt.legend(loc='upper right')\n",
    "    plt.show()\n",
    "    \n",
    "show_synthetic_dataset(X=DA_input, y=DA_labels, name='D_A')\n",
    "show_synthetic_dataset(X=DB_input, y=DB_labels, name='D_B')\n",
    "show_synthetic_dataset(X=DC_input, y=DC_labels, name='D_C')"
   ]
  },
  {
   "cell_type": "markdown",
   "id": "aaa782ce-69e7-4e72-9660-6b982e98b305",
   "metadata": {},
   "source": [
    "### 3. Defining and Training Classifiers OR Loading them from Checkpoints\n",
    "\n",
    "The CERTIFAI code prefers torch neural network modules. To make these module work like normal logistic regression models, we use one linear forward layer with a sigmoid activation."
   ]
  },
  {
   "cell_type": "code",
   "execution_count": 12,
   "id": "c6b1ca99-c47d-4e87-a338-511716e9aec2",
   "metadata": {},
   "outputs": [],
   "source": [
    "class LogisticRegression(torch.nn.Module):\n",
    "    def __init__(self, input_dim, output_dim):\n",
    "        super(LogisticRegression, self).__init__()\n",
    "        self.linear = torch.nn.Linear(input_dim, output_dim)\n",
    "        \n",
    "    def forward(self, x):\n",
    "        outputs = torch.sigmoid(self.linear(x))\n",
    "        return outputs"
   ]
  },
  {
   "cell_type": "code",
   "execution_count": 13,
   "id": "8aec5213-b93f-4b3f-8592-4cf2abaad95d",
   "metadata": {},
   "outputs": [
    {
     "name": "stdout",
     "output_type": "stream",
     "text": [
      "accuracy on training: 1.0\n"
     ]
    }
   ],
   "source": [
    "def train_classifier(dataset, X, labels, epochs=2000, lr=1e-3, input_dim=2, output_dim=2):\n",
    "    # !important: certifai expects the output to be one-hot encoded\n",
    "    y = np.column_stack((np.where(labels == 0, 1, 0), np.where(labels == 1, 1, 0)))\n",
    "    X_train = torch.Tensor(X)\n",
    "    y_train = torch.Tensor(y)\n",
    "\n",
    "    model = LogisticRegression(input_dim, output_dim)\n",
    "    loss_fn = torch.nn.BCELoss()\n",
    "    optimizer = torch.optim.SGD(model.parameters(), lr=lr)\n",
    "    \n",
    "    for _ in range(epochs):\n",
    "        optimizer.zero_grad()\n",
    "        outputs = model(X_train)\n",
    "        loss = loss_fn(torch.squeeze(outputs), y_train)\n",
    "        loss.backward()\n",
    "        optimizer.step()\n",
    "\n",
    "    pred = model(X_train)\n",
    "    print(f'accuracy on training: {sum(pred.detach().argmax(axis=-1) == y_train.argmax(axis=-1)) / len(y_train)}')\n",
    "    torch.save(model, MODEL_PATHS[dataset])\n",
    "    \n",
    "# train_classifier('syndata-A', DA_input[:,:2], DA_labels)\n",
    "# train_classifier('syndata-B', DB_input[:,:2], DB_labels)\n",
    "train_classifier('syndata-C', DC_input[:,:2], DC_labels)\n",
    "# train_classifier('taiwan', taiwan_input[:,:2], taiwan_labels)"
   ]
  },
  {
   "cell_type": "code",
   "execution_count": 14,
   "id": "c94ec90b-0f38-4b91-95fd-05b95fdca1f0",
   "metadata": {},
   "outputs": [],
   "source": [
    "def load_all_models():\n",
    "    models = {}\n",
    "    for ds, model in MODEL_PATHS.items():\n",
    "        models[ds] = torch.load(model)\n",
    "    return models\n",
    "\n",
    "models = load_all_models()"
   ]
  },
  {
   "cell_type": "markdown",
   "id": "3dd179f2-2527-4b75-922f-f575aec67571",
   "metadata": {},
   "source": [
    "### 4. Defining CERTIFAI and generating counterfactuals OR loading it from checkpoint"
   ]
  },
  {
   "cell_type": "code",
   "execution_count": 15,
   "id": "0ed89095-dd7d-4eea-88a9-20513237df98",
   "metadata": {},
   "outputs": [],
   "source": [
    "# TODO: delete?\n",
    "def data_from_certifai(cert, inputs, target):\n",
    "    df = cert.tab_dataset[inputs + [target]]\n",
    "    model_input = cert.transform_x_2_input(df, pytorch=True)\n",
    "    target = model_input[:,-1].long()\n",
    "    predictors = model_input[:,:2]\n",
    "    return torch.Tensor(predictors), torch.Tensor(target)"
   ]
  },
  {
   "cell_type": "code",
   "execution_count": 16,
   "id": "20885dec-b9c4-4788-b34c-51bcf24b3571",
   "metadata": {},
   "outputs": [
    {
     "name": "stderr",
     "output_type": "stream",
     "text": [
      "Generating counterfactual(s) for sample 0:   0%|                             | 0/40 [00:00<?, ?it/s]"
     ]
    },
    {
     "name": "stdout",
     "output_type": "stream",
     "text": [
      "14.811712221529573 0.2667730066007316\n",
      "14.811712221529573 0.2667730066007316\n",
      "14.811712221529573 0.2667730066007316\n"
     ]
    },
    {
     "name": "stderr",
     "output_type": "stream",
     "text": [
      "Generating counterfactual(s) for sample 1:   2%|▌                    | 1/40 [00:08<05:39,  8.71s/it]"
     ]
    },
    {
     "name": "stdout",
     "output_type": "stream",
     "text": [
      "15.446509887022424 0.2654681989978452\n",
      "15.446509887022424 0.2654681989978452\n",
      "15.446509887022424 0.2654681989978452\n"
     ]
    },
    {
     "name": "stderr",
     "output_type": "stream",
     "text": [
      "Generating counterfactual(s) for sample 2:   5%|█                    | 2/40 [00:16<05:19,  8.41s/it]"
     ]
    },
    {
     "name": "stdout",
     "output_type": "stream",
     "text": [
      "12.793433932709409 0.1576186471958376\n",
      "12.793433932709409 0.1576186471958376\n",
      "12.793433932709409 0.1576186471958376\n"
     ]
    },
    {
     "name": "stderr",
     "output_type": "stream",
     "text": [
      "Generating counterfactual(s) for sample 3:   8%|█▌                   | 3/40 [00:25<05:20,  8.66s/it]"
     ]
    },
    {
     "name": "stdout",
     "output_type": "stream",
     "text": [
      "13.58208423895719 0.4440873460729283\n"
     ]
    },
    {
     "name": "stderr",
     "output_type": "stream",
     "text": [
      "Generating counterfactual(s) for sample 3:   8%|█▌                   | 3/40 [00:26<05:26,  8.83s/it]\n",
      "ERROR:root:Internal Python error in the inspect module.\n",
      "Below is the traceback from this internal error.\n",
      "\n"
     ]
    },
    {
     "name": "stdout",
     "output_type": "stream",
     "text": [
      "Traceback (most recent call last):\n",
      "  File \"/Users/yochem/.local/share/pyenv/versions/hcml/lib/python3.7/site-packages/IPython/core/interactiveshell.py\", line 3553, in run_code\n",
      "    exec(code_obj, self.user_global_ns, self.user_ns)\n",
      "  File \"/var/folders/5c/3d8wcgq57cv83m9l7jk88v8w0000gn/T/ipykernel_24924/4174124285.py\", line 29, in <module>\n",
      "    train_certifai(models['syndata-C'], 'syndata-C', DC_input[:,:2], DC_input[:,2], DC_labels)\n",
      "  File \"/var/folders/5c/3d8wcgq57cv83m9l7jk88v8w0000gn/T/ipykernel_24924/4174124285.py\", line 14, in train_certifai\n",
      "    verbose=True\n",
      "  File \"/Users/yochem/Documents/bursting-burden/CERTIFAI.py\", line 876, in fit\n",
      "    mutated_generation = self.mutate(selected_generation)\n",
      "  File \"/Users/yochem/Documents/bursting-burden/CERTIFAI.py\", line 633, in mutate\n",
      "    np.random.choice(counterfacts_df.iloc[:, feat_ind]))\n",
      "KeyboardInterrupt\n",
      "\n",
      "During handling of the above exception, another exception occurred:\n",
      "\n",
      "Traceback (most recent call last):\n",
      "  File \"/Users/yochem/.local/share/pyenv/versions/hcml/lib/python3.7/site-packages/IPython/core/interactiveshell.py\", line 2099, in showtraceback\n",
      "    stb = value._render_traceback_()\n",
      "AttributeError: 'KeyboardInterrupt' object has no attribute '_render_traceback_'\n",
      "\n",
      "During handling of the above exception, another exception occurred:\n",
      "\n",
      "Traceback (most recent call last):\n",
      "  File \"/Users/yochem/.local/share/pyenv/versions/hcml/lib/python3.7/site-packages/IPython/core/ultratb.py\", line 1101, in get_records\n",
      "    return _fixed_getinnerframes(etb, number_of_lines_of_context, tb_offset)\n",
      "  File \"/Users/yochem/.local/share/pyenv/versions/hcml/lib/python3.7/site-packages/IPython/core/ultratb.py\", line 248, in wrapped\n",
      "    return f(*args, **kwargs)\n",
      "  File \"/Users/yochem/.local/share/pyenv/versions/hcml/lib/python3.7/site-packages/IPython/core/ultratb.py\", line 281, in _fixed_getinnerframes\n",
      "    records = fix_frame_records_filenames(inspect.getinnerframes(etb, context))\n",
      "  File \"/Users/yochem/.local/share/pyenv/versions/3.7.13/lib/python3.7/inspect.py\", line 1502, in getinnerframes\n",
      "    frameinfo = (tb.tb_frame,) + getframeinfo(tb, context)\n",
      "  File \"/Users/yochem/.local/share/pyenv/versions/3.7.13/lib/python3.7/inspect.py\", line 1460, in getframeinfo\n",
      "    filename = getsourcefile(frame) or getfile(frame)\n",
      "  File \"/Users/yochem/.local/share/pyenv/versions/3.7.13/lib/python3.7/inspect.py\", line 696, in getsourcefile\n",
      "    if getattr(getmodule(object, filename), '__loader__', None) is not None:\n",
      "  File \"/Users/yochem/.local/share/pyenv/versions/3.7.13/lib/python3.7/inspect.py\", line 742, in getmodule\n",
      "    os.path.realpath(f)] = module.__name__\n",
      "  File \"/Users/yochem/.local/share/pyenv/versions/3.7.13/lib/python3.7/posixpath.py\", line 395, in realpath\n",
      "    path, ok = _joinrealpath(filename[:0], filename, {})\n",
      "  File \"/Users/yochem/.local/share/pyenv/versions/3.7.13/lib/python3.7/posixpath.py\", line 443, in _joinrealpath\n",
      "    path, ok = _joinrealpath(path, os.readlink(newpath), seen)\n",
      "  File \"/Users/yochem/.local/share/pyenv/versions/3.7.13/lib/python3.7/posixpath.py\", line 428, in _joinrealpath\n",
      "    newpath = join(path, name)\n",
      "  File \"/Users/yochem/.local/share/pyenv/versions/3.7.13/lib/python3.7/posixpath.py\", line 81, in join\n",
      "    sep = _get_sep(a)\n",
      "  File \"/Users/yochem/.local/share/pyenv/versions/3.7.13/lib/python3.7/posixpath.py\", line 42, in _get_sep\n",
      "    if isinstance(path, bytes):\n",
      "KeyboardInterrupt\n"
     ]
    },
    {
     "ename": "TypeError",
     "evalue": "object of type 'NoneType' has no len()",
     "output_type": "error",
     "traceback": [
      "\u001b[0;31m---------------------------------------------------------------------------\u001b[0m",
      "\u001b[0;31mKeyboardInterrupt\u001b[0m                         Traceback (most recent call last)",
      "    \u001b[0;31m[... skipping hidden 1 frame]\u001b[0m\n",
      "\u001b[0;32m/var/folders/5c/3d8wcgq57cv83m9l7jk88v8w0000gn/T/ipykernel_24924/4174124285.py\u001b[0m in \u001b[0;36m<module>\u001b[0;34m\u001b[0m\n\u001b[1;32m     28\u001b[0m \u001b[0;31m# train_certifai(models['syndata-B'], 'syndata-B', DB_input[:,:2], DB_input[:,2], DB_labels)\u001b[0m\u001b[0;34m\u001b[0m\u001b[0;34m\u001b[0m\u001b[0;34m\u001b[0m\u001b[0m\n\u001b[0;32m---> 29\u001b[0;31m \u001b[0mtrain_certifai\u001b[0m\u001b[0;34m(\u001b[0m\u001b[0mmodels\u001b[0m\u001b[0;34m[\u001b[0m\u001b[0;34m'syndata-C'\u001b[0m\u001b[0;34m]\u001b[0m\u001b[0;34m,\u001b[0m \u001b[0;34m'syndata-C'\u001b[0m\u001b[0;34m,\u001b[0m \u001b[0mDC_input\u001b[0m\u001b[0;34m[\u001b[0m\u001b[0;34m:\u001b[0m\u001b[0;34m,\u001b[0m\u001b[0;34m:\u001b[0m\u001b[0;36m2\u001b[0m\u001b[0;34m]\u001b[0m\u001b[0;34m,\u001b[0m \u001b[0mDC_input\u001b[0m\u001b[0;34m[\u001b[0m\u001b[0;34m:\u001b[0m\u001b[0;34m,\u001b[0m\u001b[0;36m2\u001b[0m\u001b[0;34m]\u001b[0m\u001b[0;34m,\u001b[0m \u001b[0mDC_labels\u001b[0m\u001b[0;34m)\u001b[0m\u001b[0;34m\u001b[0m\u001b[0;34m\u001b[0m\u001b[0m\n\u001b[0m\u001b[1;32m     30\u001b[0m \u001b[0;31m# train_certifai(models['taiwan'], 'taiwan', taiwan_input[:,:-2], taiwan_input[:,-2], taiwan_labels)\u001b[0m\u001b[0;34m\u001b[0m\u001b[0;34m\u001b[0m\u001b[0;34m\u001b[0m\u001b[0m\n",
      "\u001b[0;32m/var/folders/5c/3d8wcgq57cv83m9l7jk88v8w0000gn/T/ipykernel_24924/4174124285.py\u001b[0m in \u001b[0;36mtrain_certifai\u001b[0;34m(model, dataname, model_input, protected_attribute, target)\u001b[0m\n\u001b[1;32m     13\u001b[0m         \u001b[0mclass_specific\u001b[0m\u001b[0;34m=\u001b[0m\u001b[0;36m0\u001b[0m\u001b[0;34m,\u001b[0m \u001b[0;31m# !important we only care about the unfavorable outcome\u001b[0m\u001b[0;34m\u001b[0m\u001b[0;34m\u001b[0m\u001b[0m\n\u001b[0;32m---> 14\u001b[0;31m         \u001b[0mverbose\u001b[0m\u001b[0;34m=\u001b[0m\u001b[0;32mTrue\u001b[0m\u001b[0;34m\u001b[0m\u001b[0;34m\u001b[0m\u001b[0m\n\u001b[0m\u001b[1;32m     15\u001b[0m     )\n",
      "\u001b[0;32m~/Documents/bursting-burden/CERTIFAI.py\u001b[0m in \u001b[0;36mfit\u001b[0;34m(self, model, x, model_input, pytorch, classification, generations, distance, constrained, class_specific, select_retain, gen_retain, final_k, normalisation, fixed, verbose)\u001b[0m\n\u001b[1;32m    875\u001b[0m \u001b[0;34m\u001b[0m\u001b[0m\n\u001b[0;32m--> 876\u001b[0;31m                 \u001b[0mmutated_generation\u001b[0m \u001b[0;34m=\u001b[0m \u001b[0mself\u001b[0m\u001b[0;34m.\u001b[0m\u001b[0mmutate\u001b[0m\u001b[0;34m(\u001b[0m\u001b[0mselected_generation\u001b[0m\u001b[0;34m)\u001b[0m\u001b[0;34m\u001b[0m\u001b[0;34m\u001b[0m\u001b[0m\n\u001b[0m\u001b[1;32m    877\u001b[0m \u001b[0;34m\u001b[0m\u001b[0m\n",
      "\u001b[0;32m~/Documents/bursting-burden/CERTIFAI.py\u001b[0m in \u001b[0;36mmutate\u001b[0;34m(self, counterfacts_list)\u001b[0m\n\u001b[1;32m    632\u001b[0m                         \u001b[0mnp\u001b[0m\u001b[0;34m.\u001b[0m\u001b[0mrandom\u001b[0m\u001b[0;34m.\u001b[0m\u001b[0mchoice\u001b[0m\u001b[0;34m(\u001b[0m\u001b[0mcounterfacts_df\u001b[0m\u001b[0;34m.\u001b[0m\u001b[0miloc\u001b[0m\u001b[0;34m[\u001b[0m\u001b[0;34m:\u001b[0m\u001b[0;34m,\u001b[0m \u001b[0mfeat_ind\u001b[0m\u001b[0;34m]\u001b[0m\u001b[0;34m)\u001b[0m \u001b[0;34m+\u001b[0m\u001b[0;34m\u001b[0m\u001b[0;34m\u001b[0m\u001b[0m\n\u001b[0;32m--> 633\u001b[0;31m                     np.random.choice(counterfacts_df.iloc[:, feat_ind]))\n\u001b[0m\u001b[1;32m    634\u001b[0m \u001b[0;34m\u001b[0m\u001b[0m\n",
      "\u001b[0;31mKeyboardInterrupt\u001b[0m: ",
      "\nDuring handling of the above exception, another exception occurred:\n",
      "\u001b[0;31mAttributeError\u001b[0m                            Traceback (most recent call last)",
      "\u001b[0;32m~/.local/share/pyenv/versions/hcml/lib/python3.7/site-packages/IPython/core/interactiveshell.py\u001b[0m in \u001b[0;36mshowtraceback\u001b[0;34m(self, exc_tuple, filename, tb_offset, exception_only, running_compiled_code)\u001b[0m\n\u001b[1;32m   2098\u001b[0m                         \u001b[0;31m# in the engines. This should return a list of strings.\u001b[0m\u001b[0;34m\u001b[0m\u001b[0;34m\u001b[0m\u001b[0;34m\u001b[0m\u001b[0m\n\u001b[0;32m-> 2099\u001b[0;31m                         \u001b[0mstb\u001b[0m \u001b[0;34m=\u001b[0m \u001b[0mvalue\u001b[0m\u001b[0;34m.\u001b[0m\u001b[0m_render_traceback_\u001b[0m\u001b[0;34m(\u001b[0m\u001b[0;34m)\u001b[0m\u001b[0;34m\u001b[0m\u001b[0;34m\u001b[0m\u001b[0m\n\u001b[0m\u001b[1;32m   2100\u001b[0m                     \u001b[0;32mexcept\u001b[0m \u001b[0mException\u001b[0m\u001b[0;34m:\u001b[0m\u001b[0;34m\u001b[0m\u001b[0;34m\u001b[0m\u001b[0m\n",
      "\u001b[0;31mAttributeError\u001b[0m: 'KeyboardInterrupt' object has no attribute '_render_traceback_'",
      "\nDuring handling of the above exception, another exception occurred:\n",
      "\u001b[0;31mTypeError\u001b[0m                                 Traceback (most recent call last)",
      "    \u001b[0;31m[... skipping hidden 1 frame]\u001b[0m\n",
      "\u001b[0;32m~/.local/share/pyenv/versions/hcml/lib/python3.7/site-packages/IPython/core/interactiveshell.py\u001b[0m in \u001b[0;36mshowtraceback\u001b[0;34m(self, exc_tuple, filename, tb_offset, exception_only, running_compiled_code)\u001b[0m\n\u001b[1;32m   2100\u001b[0m                     \u001b[0;32mexcept\u001b[0m \u001b[0mException\u001b[0m\u001b[0;34m:\u001b[0m\u001b[0;34m\u001b[0m\u001b[0;34m\u001b[0m\u001b[0m\n\u001b[1;32m   2101\u001b[0m                         stb = self.InteractiveTB.structured_traceback(etype,\n\u001b[0;32m-> 2102\u001b[0;31m                                             value, tb, tb_offset=tb_offset)\n\u001b[0m\u001b[1;32m   2103\u001b[0m \u001b[0;34m\u001b[0m\u001b[0m\n\u001b[1;32m   2104\u001b[0m                     \u001b[0mself\u001b[0m\u001b[0;34m.\u001b[0m\u001b[0m_showtraceback\u001b[0m\u001b[0;34m(\u001b[0m\u001b[0metype\u001b[0m\u001b[0;34m,\u001b[0m \u001b[0mvalue\u001b[0m\u001b[0;34m,\u001b[0m \u001b[0mstb\u001b[0m\u001b[0;34m)\u001b[0m\u001b[0;34m\u001b[0m\u001b[0;34m\u001b[0m\u001b[0m\n",
      "\u001b[0;32m~/.local/share/pyenv/versions/hcml/lib/python3.7/site-packages/IPython/core/ultratb.py\u001b[0m in \u001b[0;36mstructured_traceback\u001b[0;34m(self, etype, value, tb, tb_offset, number_of_lines_of_context)\u001b[0m\n\u001b[1;32m   1366\u001b[0m             \u001b[0mself\u001b[0m\u001b[0;34m.\u001b[0m\u001b[0mtb\u001b[0m \u001b[0;34m=\u001b[0m \u001b[0mtb\u001b[0m\u001b[0;34m\u001b[0m\u001b[0;34m\u001b[0m\u001b[0m\n\u001b[1;32m   1367\u001b[0m         return FormattedTB.structured_traceback(\n\u001b[0;32m-> 1368\u001b[0;31m             self, etype, value, tb, tb_offset, number_of_lines_of_context)\n\u001b[0m\u001b[1;32m   1369\u001b[0m \u001b[0;34m\u001b[0m\u001b[0m\n\u001b[1;32m   1370\u001b[0m \u001b[0;34m\u001b[0m\u001b[0m\n",
      "\u001b[0;32m~/.local/share/pyenv/versions/hcml/lib/python3.7/site-packages/IPython/core/ultratb.py\u001b[0m in \u001b[0;36mstructured_traceback\u001b[0;34m(self, etype, value, tb, tb_offset, number_of_lines_of_context)\u001b[0m\n\u001b[1;32m   1266\u001b[0m             \u001b[0;31m# Verbose modes need a full traceback\u001b[0m\u001b[0;34m\u001b[0m\u001b[0;34m\u001b[0m\u001b[0;34m\u001b[0m\u001b[0m\n\u001b[1;32m   1267\u001b[0m             return VerboseTB.structured_traceback(\n\u001b[0;32m-> 1268\u001b[0;31m                 \u001b[0mself\u001b[0m\u001b[0;34m,\u001b[0m \u001b[0metype\u001b[0m\u001b[0;34m,\u001b[0m \u001b[0mvalue\u001b[0m\u001b[0;34m,\u001b[0m \u001b[0mtb\u001b[0m\u001b[0;34m,\u001b[0m \u001b[0mtb_offset\u001b[0m\u001b[0;34m,\u001b[0m \u001b[0mnumber_of_lines_of_context\u001b[0m\u001b[0;34m\u001b[0m\u001b[0;34m\u001b[0m\u001b[0m\n\u001b[0m\u001b[1;32m   1269\u001b[0m             )\n\u001b[1;32m   1270\u001b[0m         \u001b[0;32melif\u001b[0m \u001b[0mmode\u001b[0m \u001b[0;34m==\u001b[0m \u001b[0;34m'Minimal'\u001b[0m\u001b[0;34m:\u001b[0m\u001b[0;34m\u001b[0m\u001b[0;34m\u001b[0m\u001b[0m\n",
      "\u001b[0;32m~/.local/share/pyenv/versions/hcml/lib/python3.7/site-packages/IPython/core/ultratb.py\u001b[0m in \u001b[0;36mstructured_traceback\u001b[0;34m(self, etype, evalue, etb, tb_offset, number_of_lines_of_context)\u001b[0m\n\u001b[1;32m   1123\u001b[0m \u001b[0;34m\u001b[0m\u001b[0m\n\u001b[1;32m   1124\u001b[0m         formatted_exception = self.format_exception_as_a_whole(etype, evalue, etb, number_of_lines_of_context,\n\u001b[0;32m-> 1125\u001b[0;31m                                                                tb_offset)\n\u001b[0m\u001b[1;32m   1126\u001b[0m \u001b[0;34m\u001b[0m\u001b[0m\n\u001b[1;32m   1127\u001b[0m         \u001b[0mcolors\u001b[0m \u001b[0;34m=\u001b[0m \u001b[0mself\u001b[0m\u001b[0;34m.\u001b[0m\u001b[0mColors\u001b[0m  \u001b[0;31m# just a shorthand + quicker name lookup\u001b[0m\u001b[0;34m\u001b[0m\u001b[0;34m\u001b[0m\u001b[0m\n",
      "\u001b[0;32m~/.local/share/pyenv/versions/hcml/lib/python3.7/site-packages/IPython/core/ultratb.py\u001b[0m in \u001b[0;36mformat_exception_as_a_whole\u001b[0;34m(self, etype, evalue, etb, number_of_lines_of_context, tb_offset)\u001b[0m\n\u001b[1;32m   1080\u001b[0m \u001b[0;34m\u001b[0m\u001b[0m\n\u001b[1;32m   1081\u001b[0m \u001b[0;34m\u001b[0m\u001b[0m\n\u001b[0;32m-> 1082\u001b[0;31m         \u001b[0mlast_unique\u001b[0m\u001b[0;34m,\u001b[0m \u001b[0mrecursion_repeat\u001b[0m \u001b[0;34m=\u001b[0m \u001b[0mfind_recursion\u001b[0m\u001b[0;34m(\u001b[0m\u001b[0morig_etype\u001b[0m\u001b[0;34m,\u001b[0m \u001b[0mevalue\u001b[0m\u001b[0;34m,\u001b[0m \u001b[0mrecords\u001b[0m\u001b[0;34m)\u001b[0m\u001b[0;34m\u001b[0m\u001b[0;34m\u001b[0m\u001b[0m\n\u001b[0m\u001b[1;32m   1083\u001b[0m \u001b[0;34m\u001b[0m\u001b[0m\n\u001b[1;32m   1084\u001b[0m         \u001b[0mframes\u001b[0m \u001b[0;34m=\u001b[0m \u001b[0mself\u001b[0m\u001b[0;34m.\u001b[0m\u001b[0mformat_records\u001b[0m\u001b[0;34m(\u001b[0m\u001b[0mrecords\u001b[0m\u001b[0;34m,\u001b[0m \u001b[0mlast_unique\u001b[0m\u001b[0;34m,\u001b[0m \u001b[0mrecursion_repeat\u001b[0m\u001b[0;34m)\u001b[0m\u001b[0;34m\u001b[0m\u001b[0;34m\u001b[0m\u001b[0m\n",
      "\u001b[0;32m~/.local/share/pyenv/versions/hcml/lib/python3.7/site-packages/IPython/core/ultratb.py\u001b[0m in \u001b[0;36mfind_recursion\u001b[0;34m(etype, value, records)\u001b[0m\n\u001b[1;32m    380\u001b[0m     \u001b[0;31m# first frame (from in to out) that looks different.\u001b[0m\u001b[0;34m\u001b[0m\u001b[0;34m\u001b[0m\u001b[0;34m\u001b[0m\u001b[0m\n\u001b[1;32m    381\u001b[0m     \u001b[0;32mif\u001b[0m \u001b[0;32mnot\u001b[0m \u001b[0mis_recursion_error\u001b[0m\u001b[0;34m(\u001b[0m\u001b[0metype\u001b[0m\u001b[0;34m,\u001b[0m \u001b[0mvalue\u001b[0m\u001b[0;34m,\u001b[0m \u001b[0mrecords\u001b[0m\u001b[0;34m)\u001b[0m\u001b[0;34m:\u001b[0m\u001b[0;34m\u001b[0m\u001b[0;34m\u001b[0m\u001b[0m\n\u001b[0;32m--> 382\u001b[0;31m         \u001b[0;32mreturn\u001b[0m \u001b[0mlen\u001b[0m\u001b[0;34m(\u001b[0m\u001b[0mrecords\u001b[0m\u001b[0;34m)\u001b[0m\u001b[0;34m,\u001b[0m \u001b[0;36m0\u001b[0m\u001b[0;34m\u001b[0m\u001b[0;34m\u001b[0m\u001b[0m\n\u001b[0m\u001b[1;32m    383\u001b[0m \u001b[0;34m\u001b[0m\u001b[0m\n\u001b[1;32m    384\u001b[0m     \u001b[0;31m# Select filename, lineno, func_name to track frames with\u001b[0m\u001b[0;34m\u001b[0m\u001b[0;34m\u001b[0m\u001b[0;34m\u001b[0m\u001b[0m\n",
      "\u001b[0;31mTypeError\u001b[0m: object of type 'NoneType' has no len()"
     ]
    }
   ],
   "source": [
    "def train_certifai(model, dataname, model_input, protected_attribute, target):\n",
    "    cert = CERTIFAI.from_csv(CERTIFAI_INPUT_DATA[dataname])\n",
    "    cert.tab_dataset = cert.tab_dataset.drop(columns='y')\n",
    "    cert.Population = 60000\n",
    "    cert.fit(\n",
    "        model,\n",
    "        select_retain=10000,\n",
    "        gen_retain=5000,\n",
    "        distance=\"L2\",\n",
    "        model_input=torch.Tensor(model_input),\n",
    "        generations=3,\n",
    "        constrained=False,\n",
    "        class_specific=0, # !important we only care about the unfavorable outcome\n",
    "        verbose=True\n",
    "    )\n",
    "    # after fitting we can safely add back the protected attributes and targets\n",
    "    cert.tab_dataset['s'] = protected_attribute\n",
    "    cert.tab_dataset['favorable'] = target\n",
    "    cert.classifier = model\n",
    "    # !important nice to save the model within certifai\n",
    "    # this makes sure the model's parameters (decisicion boundary) are saved with\n",
    "    # the counterfactuals\n",
    "\n",
    "    with open(CERTIFAI_PICKLES[dataname], 'wb') as f:\n",
    "        pickle.dump(cert, f)\n",
    "\n",
    "# train_certifai(models['syndata-A'], 'syndata-A', DA_input[:,:2], DA_input[:,2], DA_labels)\n",
    "# train_certifai(models['syndata-B'], 'syndata-B', DB_input[:,:2], DB_input[:,2], DB_labels)\n",
    "train_certifai(models['syndata-C'], 'syndata-C', DC_input[:,:2], DC_input[:,2], DC_labels)\n",
    "# train_certifai(models['taiwan'], 'taiwan', taiwan_input[:,:-2], taiwan_input[:,-2], taiwan_labels)"
   ]
  },
  {
   "cell_type": "markdown",
   "id": "e936d339-e09d-4cff-b92b-787286dc2e1f",
   "metadata": {},
   "source": [
    "#### 4.2 Loading all pickled CERTIFAI class instances"
   ]
  },
  {
   "cell_type": "code",
   "execution_count": 20,
   "id": "e47f258c-d675-437c-aa7f-0f3b24efdd63",
   "metadata": {},
   "outputs": [
    {
     "name": "stdout",
     "output_type": "stream",
     "text": [
      "[(         x1         x2\n",
      "30  0.80297  11.578631, [[0.75, 11.0]], [0.5810502395894702]), (          x1        x2\n",
      "31  1.281856  8.488116, [[1.25, 8.5]], [0.03400090108845536]), (         x1        x2\n",
      "32  1.85593  9.501516, [[2.0, 9.5]], [0.14407836338403712]), (          x1        x2\n",
      "33  0.923054  7.536426, [[1.0, 7.5]], [0.0851324860039792]), (          x1      x2\n",
      "34  1.601693  8.7295, [[1.5, 8.5]], [0.2510209959793793]), (          x1         x2\n",
      "35 -1.368082  10.240935, [[-1.25, 10.0]], [0.2683152092525326]), (          x1        x2\n",
      "36  0.667478  7.774355, [[0.75, 8.0]], [0.24026148714182688]), (          x1        x2\n",
      "37  0.374678  9.101888, [[0.25, 9.0]], [0.16101493950972573]), (          x1        x2\n",
      "38  0.974695  8.712925, [[1.0, 8.75]], [0.04488768891613446]), (          x1        x2\n",
      "39  1.235246  7.750924, [[1.0, 7.75]], [0.23524798921663043]), (          x1        x2\n",
      "40 -0.384804  8.491393, [[-0.5, 8.5]], [0.11551748286683548]), (         x1        x2\n",
      "41  0.96769  7.282738, [[1.0, 7.25]], [0.04599695288902251]), (          x1        x2\n",
      "42  1.029249  9.168131, [[1.0, 9.25]], [0.08693727520325865]), (          x1         x2\n",
      "43  0.888616  10.165095, [[1.0, 10.125]], [0.1183808388852031]), (          x1        x2\n",
      "44  0.372001  8.886676, [[0.25, 9.0]], [0.16651286743390079]), (          x1         x2\n",
      "45  1.130822  10.605413, [[1.0, 10.5]], [0.16800709016862744]), (          x1        x2\n",
      "46 -0.139904  9.538171, [[0.0, 9.5]], [0.14501780140158352]), (          x1        x2\n",
      "47 -0.635347  8.381856, [[-0.5, 8.5]], [0.17965755222020358]), (          x1       x2\n",
      "48  0.864586  8.69301, [[1.0, 8.75]], [0.14691772112440968]), (          x1        x2\n",
      "49  0.904523  9.511828, [[1.0, 9.5]], [0.09620683446355034]), (         x1        x2\n",
      "50 -0.54183  8.961537, [[-0.5, 9.0]], [0.0568257941908325]), (          x1         x2\n",
      "51  0.150778  10.694562, [[0.0, 10.75]], [0.16064716612868765]), (          x1         x2\n",
      "52  0.608904  10.300375, [[0.5, 10.5]], [0.22739891376496035]), (          x1        x2\n",
      "53  0.860272  7.998702, [[0.75, 8.0]], [0.11028008774441447]), (          x1        x2\n",
      "54  0.667529  7.944638, [[0.75, 8.0]], [0.09932990493043133]), (          x1        x2\n",
      "55  0.209297  7.655666, [[0.0, 7.75]], [0.22957393386865235]), (          x1        x2\n",
      "56  0.871875  8.266246, [[1.0, 8.25]], [0.12915133277329385]), (         x1        x2\n",
      "57  0.03971  8.728018, [[0.0, 8.75]], [0.0453884822429123]), (          x1       x2\n",
      "58  0.175106  8.57576, [[0.0, 8.5]], [0.19079274380694264]), (          x1        x2\n",
      "59  2.310587  9.389152, [[2.25, 9.5]], [0.1263252038473694]), (          x1        x2\n",
      "60  1.025258  9.914189, [[1.0, 10.0]], [0.08945086590786042]), (          x1        x2\n",
      "61 -0.024339  6.670802, [[0.0, 6.625]], [0.05186702122022442]), (          x1       x2\n",
      "62  2.273635  7.67236, [[2.0, 7.75]], [0.28443624975911]), (          x1         x2\n",
      "63 -0.083076  10.862906, [[0.0, 10.75]], [0.14017609149859284]), (          x1        x2\n",
      "64  1.408549  6.528466, [[1.5, 6.5]], [0.09577900357187286]), (          x1         x2\n",
      "65  0.889299  10.057782, [[1.0, 10.0]], [0.12487358302077618]), (          x1         x2\n",
      "66  0.301441  10.031461, [[0.25, 10.0]], [0.06029921713119103]), (          x1        x2\n",
      "67  4.205492  8.954955, [[4.25, 9.0]], [0.0633248604985307]), (          x1        x2\n",
      "68  0.828764  7.416646, [[1.0, 7.5]], [0.19044618822633186]), (          x1        x2\n",
      "69  0.687995  8.093763, [[0.75, 8.0]], [0.1124107174546768])]\n"
     ]
    }
   ],
   "source": [
    "def load_all_certs():\n",
    "    certs = {}\n",
    "    for ds, cert_pickle in CERTIFAI_PICKLES.items():\n",
    "        with open(cert_pickle, 'rb') as f:\n",
    "            certs[ds] = pickle.load(f)\n",
    "\n",
    "    return certs\n",
    "        \n",
    "certs = load_all_certs()\n",
    "print(certs['syndata-C'].results)"
   ]
  },
  {
   "cell_type": "markdown",
   "id": "ca11b901-9453-49ac-8e0b-16ce82612545",
   "metadata": {},
   "source": [
    "### 5. Burden results"
   ]
  },
  {
   "cell_type": "code",
   "execution_count": 21,
   "id": "0129f160-572a-4d2b-ac0a-b054a55cae73",
   "metadata": {},
   "outputs": [
    {
     "name": "stdout",
     "output_type": "stream",
     "text": [
      "syndata-A\n",
      "           0        1\n",
      "s  11.577682  4.64619\n",
      "\n",
      "syndata-B\n",
      "          0          1\n",
      "s  3.307706  10.954803\n",
      "\n",
      "syndata-C\n",
      "        0.0       1.0\n",
      "s  0.029492  0.050439\n",
      "\n",
      "taiwan\n",
      "          0         1\n",
      "s  1.428238  1.292059\n",
      "\n"
     ]
    }
   ],
   "source": [
    "def show_burden(cert, protected_attr, unfavorable_target=0):\n",
    "    \"\"\"\n",
    "    The check_fairness method of CERTIFAI is a bit weird. This function\n",
    "    converts it to a more clear output. It also handles a very important\n",
    "    thing, namely a bug in the CERTIFAI code. The code also calculates\n",
    "    the burden of a group over the members with a favorable outcome.\n",
    "    This should not be the case, and thus filters this function on\n",
    "    `favorable=0'.\n",
    "    \"\"\"\n",
    "    for attribute in protected_attr:\n",
    "        possible_vals = set(cert.tab_dataset[attribute])\n",
    "        fairness_checks = []\n",
    "        for val in possible_vals:\n",
    "            fairness_checks.append({attribute: val, 'favorable': unfavorable_target})\n",
    "        \n",
    "        fairness = cert.check_fairness(fairness_checks, normalised=True)\n",
    "        change_name = lambda x: x.split('=')[1].split('-')[0]\n",
    "        cols = list(map(change_name, fairness.keys()))\n",
    "        column_names = pd.DataFrame(fairness.values(), index=cols, columns=(attribute,))\n",
    "        return column_names.transpose()\n",
    "\n",
    "print('syndata-A', show_burden(certs['syndata-A'], ['s']), sep='\\n', end='\\n\\n')\n",
    "print('syndata-B', show_burden(certs['syndata-B'], ['s']), sep='\\n', end='\\n\\n')\n",
    "print('syndata-C', show_burden(certs['syndata-C'], ['s']), sep='\\n', end='\\n\\n')\n",
    "print('taiwan', show_burden(certs['taiwan'], ['s']), sep='\\n', end='\\n\\n')"
   ]
  },
  {
   "cell_type": "raw",
   "id": "e9e84a28-c197-41b1-b96d-45d03557145e",
   "metadata": {},
   "source": [
    "##### 2.3.1 Write synthetic dataset $D_B$ to file"
   ]
  },
  {
   "cell_type": "markdown",
   "id": "8f01c80e-6519-42b5-a1bc-139765e85db0",
   "metadata": {},
   "source": [
    "### 6. Visualizations as used in the paper\n",
    "\n",
    "The colored plots as well as the greyscale plots of the model's decision boundary, the counterfactuals and the original datapoints."
   ]
  },
  {
   "cell_type": "code",
   "execution_count": 22,
   "id": "66b0049b-2d7f-4f8e-bdab-2d97cfdbe001",
   "metadata": {},
   "outputs": [
    {
     "name": "stdout",
     "output_type": "stream",
     "text": [
      "0.07764192\n"
     ]
    },
    {
     "data": {
      "image/png": "[encoded data removed]",
      "text/plain": [
       "<Figure size 432x288 with 1 Axes>"
      ]
     },
     "metadata": {
      "needs_background": "light"
     },
     "output_type": "display_data"
    },
    {
     "name": "stdout",
     "output_type": "stream",
     "text": [
      "[1 1 1 1 1 1 1 1 1 1 1 1 1 1 1 1 1 1 1 1 1 1 1 1 1 1 1 1 1 1 0 0 0 0 0 0 0\n",
      " 0 0 0 0 0 0 0 0 0 0 0 0 0 0 0 0 0 0 0 0 0 0 0 0 0 0 0 0 0 0 0 0 0 1 1 1 1\n",
      " 1 1 1 1 1 1]\n"
     ]
    }
   ],
   "source": [
    "def plot_counterfactuals(cert, filename):\n",
    "    # og is original point, cf is its counterfactual\n",
    "    for i, ds in cert.tab_dataset.iterrows():\n",
    "        og = ds[:2].values\n",
    "\n",
    "        for og, cf, _ in cert.results:\n",
    "            if i == og.index[0]:\n",
    "                break\n",
    "            \n",
    "            cf = None\n",
    "        \n",
    "        ognp = np.array(og)\n",
    "        if cf:\n",
    "            points = np.array([ognp[0], [cf[0][0], cf[0][1]]])\n",
    "        else:\n",
    "            points = np.array([ognp[0]])\n",
    "            \n",
    "        if ds.s == 0:\n",
    "            mark = 'v'\n",
    "            color = '#911d56'\n",
    "        else:\n",
    "            mark = 's'\n",
    "            color = '#6686c3'\n",
    "\n",
    "        # only plot CF's for unfavorable class\n",
    "        if ds.favorable == 0:\n",
    "            plt.plot(points[:,0], points[:,1], alpha=0.4, color=color, ls=':')\n",
    "            plt.scatter(*points[1], marker='x', color=color, label='Counterfactual' if i == 0 else \"\")\n",
    "        plt.scatter(*ognp[0], marker=mark, color=color, label=f'$s={int(ds.s)}$' if i in (0, 30) else \"\")\n",
    "\n",
    "    ymin = -3\n",
    "    ymax = 12\n",
    "\n",
    "    xmin = 0\n",
    "    xmax = 12\n",
    "    \n",
    "    # plot the decision boundary using model weights\n",
    "    w1, w2 = cert.classifier.get_parameter('linear.weight')[0].detach().numpy()\n",
    "    b = cert.classifier.get_parameter('linear.bias')[0].detach().numpy()\n",
    "\n",
    "    # Calculate the intercept and gradient of the decision boundary.\n",
    "    c = -b/w2\n",
    "    m = -w1/w2\n",
    "    print(c)\n",
    "\n",
    "    # Plot the data and the classification with the decision boundary.\n",
    "    xd = np.array([xmin, xmax])\n",
    "    yd = m*xd + c\n",
    "    \n",
    "    plt.plot(xd, yd, 'k', lw=1, ls='--')\n",
    "    # plt.plot(x_dec_bound, y_dec_bound, 'k', lw=1, ls='--', label='decision boundary')\n",
    "    # plt.fill_between(x_dec_bound, y_dec_bound, ymin, color='tab:green', alpha=0.07)\n",
    "    # plt.fill_between(x_dec_bound, y_dec_bound, ymax, color='tab:red', alpha=0.07)\n",
    "    plt.text(xmax - 3.5, ymin + 0.5, 'Favorable (+)', fontsize=11)\n",
    "    plt.text(xmin + 0.2, ymax - 1, 'Unfavorable (-)', fontsize=11)\n",
    "\n",
    "    plt.ylim([ymin, ymax])\n",
    "    plt.xlim([xmin, xmax])\n",
    "    plt.xlabel('$x_1$')\n",
    "    plt.ylabel('$x_2$')\n",
    "    plt.legend()\n",
    "    \n",
    "    plt.savefig(filename, dpi=1200)\n",
    "    plt.show()\n",
    "\n",
    "# plot_counterfactuals(certs['syndata-A'], filename='img/syndata-A.pdf')\n",
    "# plot_counterfactuals(certs['syndata-B'], filename='img/syndata-B.pdf')\n",
    "plot_counterfactuals(certs['syndata-C'], filename='img/syndata-C.pdf')\n",
    "\n",
    "print(certs['syndata-C'].predictions)"
   ]
  },
  {
   "cell_type": "code",
   "execution_count": 85,
   "id": "e3db05cc-769d-445f-ac22-1088a31c9abd",
   "metadata": {},
   "outputs": [
    {
     "data": {
      "image/png": "[encoded data removed]",
      "text/plain": [
       "<Figure size 432x288 with 1 Axes>"
      ]
     },
     "metadata": {
      "needs_background": "light"
     },
     "output_type": "display_data"
    },
    {
     "data": {
      "image/png": "[encoded data removed]",
      "text/plain": [
       "<Figure size 432x288 with 1 Axes>"
      ]
     },
     "metadata": {
      "needs_background": "light"
     },
     "output_type": "display_data"
    },
    {
     "data": {
      "image/png": "[encoded data removed]",
      "text/plain": [
       "<Figure size 432x288 with 1 Axes>"
      ]
     },
     "metadata": {
      "needs_background": "light"
     },
     "output_type": "display_data"
    }
   ],
   "source": [
    "def plot_counterfactuals_bw(cert, filename):\n",
    "    # og is original point, cf is its counterfactual\n",
    "    for i, ((og, cf, _), (_, ds)) in enumerate(zip(cert.results, cert.tab_dataset.iterrows())):\n",
    "        ognp = np.array(og)\n",
    "        points = np.array([ognp[0], [cf[0][0], cf[0][1]]])\n",
    "        if ds.s == 0:\n",
    "            mark = 'v'\n",
    "            color = 'grey'\n",
    "        else:\n",
    "            mark = 's'\n",
    "            color = 'black'\n",
    "\n",
    "        # only plot CF's for unfavorable class\n",
    "        if ds.favorable == 0:\n",
    "            plt.plot(points[:,0], points[:,1], alpha=0.4, color=color, ls=':')\n",
    "            plt.scatter(*points[1], marker='x', color=color, label='Counterfactual' if i == 0 else \"\")\n",
    "        plt.scatter(*ognp[0], marker=mark, color=color, label=f'$s={int(ds.s)}$' if i in (0, 20) else \"\")\n",
    "\n",
    "    ymin = -3\n",
    "    ymax = 12\n",
    "\n",
    "    xmin = -2\n",
    "    xmax = 12.5\n",
    "\n",
    "    # plot the decision boundary using model weights\n",
    "    w1, w2 = cert.classifier.get_parameter('linear.weight')[0].detach().numpy()\n",
    "    b = -cert.classifier.get_parameter('linear.bias')[0].detach().numpy()\n",
    "    x_dec_bound = [xmin, xmax]\n",
    "    y_dec_bound = [(b - 0.5 - x1 * w1) / w2 for x1 in x_dec_bound]\n",
    "    \n",
    "    plt.plot(x_dec_bound, y_dec_bound, 'k', lw=1, ls='--', label='decision boundary')\n",
    "    plt.fill_between(x_dec_bound, y_dec_bound, ymin, hatch='///', alpha=0.1, color='white', edgecolor='black', zorder=0.5)\n",
    "    plt.fill_between(x_dec_bound, y_dec_bound, ymax, hatch=r'|||', alpha=0.1, color='white', edgecolor='black', zorder=0.5)\n",
    "    plt.text(xmax - 3.5, ymin + 0.5, 'Favorable (+)', fontsize=11)\n",
    "    plt.text(xmin + 0.2, ymax - 1, 'Unfavorable (-)', fontsize=11)\n",
    "\n",
    "    plt.ylim([ymin, ymax])\n",
    "    plt.xlim([xmin, xmax])\n",
    "    plt.xlabel('$x_1$')\n",
    "    plt.ylabel('$x_2$')\n",
    "    plt.legend()\n",
    "    \n",
    "    plt.savefig(filename, dpi=1200)\n",
    "    plt.show()\n",
    "\n",
    "plot_counterfactuals_bw(certs['syndata-A'], filename='img/syndata-A-bw.pdf')\n",
    "plot_counterfactuals_bw(certs['syndata-B'], filename='img/syndata-B-bw.pdf')\n",
    "plot_counterfactuals_bw(certs['syndata-C'], filename='img/syndata-C-bw.pdf')"
   ]
  },
  {
   "cell_type": "code",
   "execution_count": 177,
   "id": "67ae4105-e4f6-40df-b99b-180f42270a83",
   "metadata": {},
   "outputs": [],
   "source": [
    "def statistical_parity(model, input_df, inputs, sens_attr, favorable_target=1):\n",
    "    \"\"\"\n",
    "    Calculate P[pred == 1 | sens_attr == 0] and P[pred == 1 | sens_attr == 1]\n",
    "    and return these two values. pred is the prediction of the model.\n",
    "    \"\"\"\n",
    "    df = input_df.copy()\n",
    "    model_input = torch.Tensor(df.drop([sens_attr, 'favorable'], axis=1).to_numpy())\n",
    "    df['pred'] = model(model_input).detach().numpy().argmax(axis=-1)\n",
    "    if favorable_target == 0:\n",
    "        return 1 - df[df[sens_attr] == 0].pred.mean(), 1 - df[df[sens_attr] == 1].pred.mean()\n",
    "    return df[df[sens_attr] == 0].pred.mean(), df[df[sens_attr] == 1].pred.mean()\n",
    "\n",
    "def add_dataset_row(table, model, cert, inputs, sens_attr, name, favorable_target=1):\n",
    "    cols = table.columns\n",
    "    \n",
    "    # calculate statistical parity\n",
    "    sp0, sp1 = statistical_parity(model, cert.tab_dataset, inputs, sens_attr, favorable_target)\n",
    "    \n",
    "    # calculate burden\n",
    "    bu0, bu1 = show_burden(cert, sens_attr, 1 - favorable_target).to_numpy()[0]\n",
    "\n",
    "    # construct row\n",
    "    row = pd.DataFrame([[sp0, sp1, sp0 / sp1,\n",
    "                         bu0, bu1, bu0 / bu1]],\n",
    "                       columns=cols,\n",
    "                       index=(name,))\n",
    "    return table.append(row)"
   ]
  },
  {
   "cell_type": "code",
   "execution_count": 178,
   "id": "5ffe7c32-7554-4c8a-904a-736e3664ae15",
   "metadata": {},
   "outputs": [
    {
     "data": {
      "text/html": [
       "<div>\n",
       "<style scoped>\n",
       "    .dataframe tbody tr th:only-of-type {\n",
       "        vertical-align: middle;\n",
       "    }\n",
       "\n",
       "    .dataframe tbody tr th {\n",
       "        vertical-align: top;\n",
       "    }\n",
       "\n",
       "    .dataframe thead th {\n",
       "        text-align: right;\n",
       "    }\n",
       "</style>\n",
       "<table border=\"1\" class=\"dataframe\">\n",
       "  <thead>\n",
       "    <tr style=\"text-align: right;\">\n",
       "      <th></th>\n",
       "      <th>S=0</th>\n",
       "      <th>S=1</th>\n",
       "      <th>SP 0/1</th>\n",
       "      <th>S=0</th>\n",
       "      <th>S=1</th>\n",
       "      <th>Burden 0/1</th>\n",
       "    </tr>\n",
       "  </thead>\n",
       "  <tbody>\n",
       "    <tr>\n",
       "      <th>Taiwan</th>\n",
       "      <td>0.967</td>\n",
       "      <td>0.948</td>\n",
       "      <td>1.020</td>\n",
       "      <td>1.383</td>\n",
       "      <td>0.940</td>\n",
       "      <td>1.471</td>\n",
       "    </tr>\n",
       "    <tr>\n",
       "      <th>Syn. Data $D_A$</th>\n",
       "      <td>0.500</td>\n",
       "      <td>0.500</td>\n",
       "      <td>1.000</td>\n",
       "      <td>11.578</td>\n",
       "      <td>4.646</td>\n",
       "      <td>2.492</td>\n",
       "    </tr>\n",
       "    <tr>\n",
       "      <th>Syn. Data $D_B$</th>\n",
       "      <td>0.571</td>\n",
       "      <td>0.667</td>\n",
       "      <td>0.857</td>\n",
       "      <td>3.308</td>\n",
       "      <td>10.955</td>\n",
       "      <td>0.302</td>\n",
       "    </tr>\n",
       "  </tbody>\n",
       "</table>\n",
       "</div>"
      ],
      "text/plain": [
       "                   S=0    S=1  SP 0/1     S=0     S=1  Burden 0/1\n",
       "Taiwan           0.967  0.948   1.020   1.383   0.940       1.471\n",
       "Syn. Data $D_A$  0.500  0.500   1.000  11.578   4.646       2.492\n",
       "Syn. Data $D_B$  0.571  0.667   0.857   3.308  10.955       0.302"
      ]
     },
     "execution_count": 178,
     "metadata": {},
     "output_type": "execute_result"
    }
   ],
   "source": [
    "table = pd.DataFrame(columns=(\n",
    "    'S=0',\n",
    "    'S=1',\n",
    "    'SP 0/1',\n",
    "    'S=0',\n",
    "    'S=1',\n",
    "    'Burden 0/1'\n",
    "))\n",
    "\n",
    "taiwan_input_names = certs['taiwan'].tab_dataset.drop(['s','favorable'], axis=1).columns\n",
    "table = add_dataset_row(table, models['taiwan'], certs['taiwan'], taiwan_input_names, 's', 'Taiwan', favorable_target=0)\n",
    "table = add_dataset_row(table, models['syndata-A'], certs['syndata-A'], ['x1', 'x2'], 's', 'Syn. Data $D_A$')\n",
    "table = add_dataset_row(table, models['syndata-B'], certs['syndata-B'], ['x1', 'x2'], 's', 'Syn. Data $D_B$')\n",
    "table = table.round(3)\n",
    "\n",
    "table.to_latex('img/table.tex') \n",
    "table\n"
   ]
  },
  {
   "cell_type": "code",
   "execution_count": null,
   "id": "471ecdc6-9ac9-441c-ade6-5c3c129931a7",
   "metadata": {},
   "outputs": [],
   "source": []
  }
 ],
 "metadata": {
  "kernelspec": {
   "display_name": "hcml",
   "language": "python",
   "name": "hcml"
  },
  "language_info": {
   "codemirror_mode": {
    "name": "ipython",
    "version": 3
   },
   "file_extension": ".py",
   "mimetype": "text/x-python",
   "name": "python",
   "nbconvert_exporter": "python",
   "pygments_lexer": "ipython3",
   "version": "3.7.13"
  }
 },
 "nbformat": 4,
 "nbformat_minor": 5
}
