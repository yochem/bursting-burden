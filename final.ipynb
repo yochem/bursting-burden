{
 "cells": [
  {
   "cell_type": "markdown",
   "id": "5c87fa6b-1c40-4231-bb5b-16b393ea26de",
   "metadata": {},
   "source": [
    "# Bursting the Burden Bubble?\n",
    "### An Assessment of Sharma et al.'s Counterfactual-based Fairness Metric\n",
    "\n",
    "This notebook shows the code used for the study 'Bursting the Burden Bubble?' by Sebastiaan Jans, Yochem van Rosmalen, Florian van der Steen, and Daan van der Weijden. It can be broken down into these parts:\n",
    "\n",
    "0. Imports\n",
    "1. Taiwan Data loading and preprocessing\n",
    "2. Synthetic Data creation\n",
    "3. Defining and training Classifiers OR loading them from checkpoints\n",
    "4. Defining CERTIFAI and generating counterfactuals OR loading it from checkpoint\n",
    "5. Burden results\n",
    "6. Visualizations as used in the paper"
   ]
  },
  {
   "cell_type": "markdown",
   "id": "ff8f2ab6-2632-4558-9457-1583e7d7a4cb",
   "metadata": {
    "tags": []
   },
   "source": [
    "### 0. Imports\n",
    "\n",
    "All needed packages can easily be installed by uncommenting the `pip install` command below."
   ]
  },
  {
   "cell_type": "code",
   "execution_count": 1,
   "id": "ac6b9a34-ef33-449a-acab-975c9086407b",
   "metadata": {},
   "outputs": [],
   "source": [
    "# !pip install -r 'requirements.txt' --quiet"
   ]
  },
  {
   "cell_type": "code",
   "execution_count": 142,
   "id": "cd20c5ce-24d2-4a26-b31b-3ea7f56a08da",
   "metadata": {},
   "outputs": [],
   "source": [
    "from collections import namedtuple\n",
    "import pickle\n",
    "\n",
    "import matplotlib.pyplot as plt\n",
    "import numpy as np\n",
    "import pandas as pd\n",
    "from sklearn.model_selection import train_test_split\n",
    "import torch\n",
    "from torch.utils.data import TensorDataset, DataLoader\n",
    "from tqdm import tqdm\n",
    "\n",
    "from CERTIFAI import CERTIFAI\n",
    "\n",
    "DATASET_NAMES = [\n",
    "    'syndata-A',\n",
    "    'syndata-B',\n",
    "    'taiwan',\n",
    "]\n",
    "CERTIFAI_INPUT_DATA = dict(zip(DATASET_NAMES, (\n",
    "    'data/syndata-A.csv',\n",
    "    'data/syndata-B.csv',\n",
    "    'data/taiwan.csv',\n",
    ")))\n",
    "MODEL_PATHS = dict(zip(DATASET_NAMES, (\n",
    "    'models/LR-syndata-A.pt',\n",
    "    'models/LR-syndata-B.pt',\n",
    "    'models/LR-taiwan.pt',\n",
    ")))\n",
    "CERTIFAI_PICKLES = dict(zip(DATASET_NAMES, (\n",
    "    'models/cert-syndata-A.pt',\n",
    "    'models/cert-syndata-B.pt',\n",
    "    'models/cert-taiwan.pt',\n",
    ")))"
   ]
  },
  {
   "cell_type": "markdown",
   "id": "c9dec83f-fef5-4091-86f4-d1f21fe04a36",
   "metadata": {
    "tags": []
   },
   "source": [
    "### 1. Taiwan Data Loading and Preprocessing"
   ]
  },
  {
   "cell_type": "code",
   "execution_count": 146,
   "id": "eac8cfe0-3436-45db-a5ad-a50f2e51e432",
   "metadata": {},
   "outputs": [],
   "source": [
    "def sample_taiwan(N=1000):\n",
    "    # load original dataset\n",
    "    taiwan_input = pd.read_csv('data/taiwan-original.csv')\n",
    "\n",
    "    # create subset of data, N for size of subset\n",
    "    taiwan_input_N = taiwan_input.sample(N, random_state=34)\n",
    "\n",
    "    # reset indices\n",
    "    taiwan_input_N = taiwan_input_N.reset_index(drop=True)\n",
    "\n",
    "    # store sensitive attribute and labels\n",
    "    taiwan_sex = taiwan_input_N['SEX'].copy().to_numpy()\n",
    "    taiwan_labels = taiwan_input_N['default payment next month'].copy().to_numpy()\n",
    "\n",
    "    # dataframe without ID column and no sensitive features\n",
    "    taiwan_input_N = taiwan_input_N.drop(['ID', 'SEX', 'EDUCATION', 'MARRIAGE', 'AGE'], axis=1)\n",
    "\n",
    "    # rename labels to y\n",
    "    taiwan_input_N = taiwan_input_N.rename(columns={'default payment next month': 'y'})\n",
    "\n",
    "    # write subset of taiwan dataset, without sensitive attributes but with labels, to csv\n",
    "    taiwan_input_N.to_csv(CERTIFAI_INPUT_DATA['taiwan'], index=False)\n",
    "    # ensure last column is labels and second-last is sex, more precisely 's'\n",
    "    taiwan_input_N = taiwan_input_N.drop('y', axis=1)\n",
    "    taiwan_input_N['s'] = taiwan_sex % 2\n",
    "    taiwan_input_N['y'] = taiwan_labels\n",
    "\n",
    "    # convert to numpy\n",
    "    taiwan_input = taiwan_input_N.to_numpy()\n",
    "\n",
    "# sample_taiwan()\n",
    "taiwan_ds = pd.read_csv(CERTIFAI_INPUT_DATA['taiwan'], index_col=0).values\n",
    "taiwan_input, taiwan_labels = np.split(taiwan_ds, [-1], axis=1)\n",
    "taiwan_labels = taiwan_labels.reshape(-1)"
   ]
  },
  {
   "cell_type": "markdown",
   "id": "5e66fe06-3e2a-456d-9f6e-0234f470126a",
   "metadata": {},
   "source": [
    "### 2. Synthetic Data Creation\n",
    "\n",
    "The synthetic datasets are created using Numpy's random.normal() method."
   ]
  },
  {
   "cell_type": "code",
   "execution_count": 47,
   "id": "c2a5ea8d-8833-42e0-93f1-0ded4e5d9b1c",
   "metadata": {},
   "outputs": [],
   "source": [
    "def shifted_random_normal(locs, scale=1, *, sizes=80):\n",
    "    \"\"\"\n",
    "    Return an array of normally distributed random numbers around\n",
    "    loc with scale. The length of the array is N. Setting scale\n",
    "    to 0 returns exactly the values of locs.\n",
    "    \"\"\"\n",
    "    # all instances of even size\n",
    "    if isinstance(sizes, int):\n",
    "        sizes = [sizes//len(locs)] * len(locs)\n",
    "\n",
    "    assert len(sizes) == len(locs) and all([isinstance(s, int) for s in sizes])\n",
    "\n",
    "    parts = [np.random.normal(loc=loc, scale=scale, size=ps) for loc, ps in zip(locs, sizes)]\n",
    "    return np.concatenate(parts)\n",
    "\n",
    "def dataset_to_csv(X, y, filename):\n",
    "    \"\"\"\n",
    "    Convert dataset in CERTIFAI approved csv format and write to file.\n",
    "    \"\"\"\n",
    "    dataset = pd.DataFrame(np.insert(X[:,:2], 2, y, axis=1), columns=('x1', 'x2', 'y'))\n",
    "    # certifai had to make sure these were classes, not numbers\n",
    "    dataset.y = np.where(dataset.y == 0, 'a', 'b')\n",
    "    dataset.to_csv(filename, header=True, index=False)"
   ]
  },
  {
   "cell_type": "markdown",
   "id": "19fc1084-a3ef-4d09-a019-adf561649407",
   "metadata": {},
   "source": [
    "#### 2.2 Creating dataset $D_A$"
   ]
  },
  {
   "cell_type": "code",
   "execution_count": 48,
   "id": "3b3e4c7b-c0ee-4564-a3d8-779404165d08",
   "metadata": {},
   "outputs": [],
   "source": [
    "def create_DA():\n",
    "    x_1 = shifted_random_normal([1, 3.5, 9, 9])\n",
    "    x_2 = shifted_random_normal([9, 5, 1, 1])\n",
    "\n",
    "    # scale=0 makes sure it only draws the exact given number\n",
    "    # so it works the same as e.g. np.ones() * number\n",
    "    s = shifted_random_normal([0, 1, 0, 1], scale=0)\n",
    "    labels = shifted_random_normal([0, 1], scale=0)\n",
    "    return np.column_stack((x_1, x_2, s)), labels\n",
    "\n",
    "# DA_input, DA_labels = create_DA()\n",
    "s = create_DA()[0][:,2]\n",
    "DA = np.loadtxt(CERTIFAI_INPUT_DATA['syndata-A'], skiprows=1, dtype=object, delimiter=',')\n",
    "DA[:,2] = np.where(DA[:,2] == 'a', 0, 1)\n",
    "DA = DA.astype(float)\n",
    "DA = np.insert(DA, 2, s, axis=1)\n",
    "DA_input, DA_labels = np.split(DA, [-1], axis=1)\n",
    "DA_labels = DA_labels.reshape(-1)"
   ]
  },
  {
   "cell_type": "markdown",
   "id": "7d6a2859-8510-463d-98e5-4f8a110d1be6",
   "metadata": {},
   "source": [
    "##### 2.2.1 Write synthetic dataset $D_A$ to file"
   ]
  },
  {
   "cell_type": "code",
   "execution_count": 49,
   "id": "d8ff53d1-10da-4c80-89d2-12e23dc05208",
   "metadata": {},
   "outputs": [],
   "source": [
    "# uncomment to write new D_A to file\n",
    "# dataset_to_csv(X=DA_input, y=DA_labels, filename=CERTIFAI_INPUT_DATA['syndata-A'])"
   ]
  },
  {
   "cell_type": "markdown",
   "id": "ef9e32a7-2b07-47df-953f-9a699a81e7c5",
   "metadata": {},
   "source": [
    "#### 2.3 Creating Dataset $D_B$"
   ]
  },
  {
   "cell_type": "code",
   "execution_count": 50,
   "id": "b2044a1c-8b9e-4442-a821-3c8839db9b41",
   "metadata": {},
   "outputs": [],
   "source": [
    "def create_DB():\n",
    "    x_1 = shifted_random_normal([1, 3.5, 9, 9], sizes=[15, 15, 30, 20])\n",
    "    x_2 = shifted_random_normal([9, 5, 1, 1], sizes=[15, 15, 30, 20])\n",
    "\n",
    "    # scale=0 makes sure it only draws the exact given number\n",
    "    # so it works the same as e.g. np.ones() * number\n",
    "    s = shifted_random_normal([1, 0, 1, 0], scale=0, sizes=[15, 15, 30, 20])\n",
    "    labels = shifted_random_normal([0, 1], scale=0, sizes=[30, 50])\n",
    "    return np.column_stack((x_1, x_2, s)), labels\n",
    "\n",
    "s = create_DB()[0][:,2]\n",
    "DB = np.loadtxt(CERTIFAI_INPUT_DATA['syndata-B'], skiprows=1, dtype=object, delimiter=',')\n",
    "DB[:,2] = np.where(DB[:,2] == 'a', 0, 1)\n",
    "DB = DB.astype(float)\n",
    "DB = np.insert(DB, 2, s, axis=1)\n",
    "DB_input, DB_labels = np.split(DB, [-1], axis=1)\n",
    "DB_labels = DB_labels.reshape(-1)"
   ]
  },
  {
   "cell_type": "markdown",
   "id": "ba9b5890-9769-4c4e-b874-7b4fe5758dca",
   "metadata": {},
   "source": [
    "##### 2.3.1 Write synthetic dataset $D_B$ to file"
   ]
  },
  {
   "cell_type": "code",
   "execution_count": 51,
   "id": "4f5bc3d0-6803-4120-ba0f-93da60d722a2",
   "metadata": {},
   "outputs": [],
   "source": [
    "# uncomment to write new D_B to file\n",
    "# dataset_to_csv(X=DB_input, y=DB_labels, filename=CERTIFAI_INPUT_DATA['syndata-B'])"
   ]
  },
  {
   "cell_type": "markdown",
   "id": "6895ff81-1ed0-49e7-9676-c1b9366c5f38",
   "metadata": {},
   "source": [
    "#### 2.4 Show Synthetic datasets"
   ]
  },
  {
   "cell_type": "code",
   "execution_count": 52,
   "id": "7397fdce-a0b1-46cc-bd70-99266f7eadae",
   "metadata": {},
   "outputs": [
    {
     "data": {
      "image/png": "[encoded data removed]",
      "text/plain": [
       "<Figure size 432x288 with 1 Axes>"
      ]
     },
     "metadata": {
      "needs_background": "light"
     },
     "output_type": "display_data"
    },
    {
     "data": {
      "image/png": "[encoded data removed]",
      "text/plain": [
       "<Figure size 432x288 with 1 Axes>"
      ]
     },
     "metadata": {
      "needs_background": "light"
     },
     "output_type": "display_data"
    }
   ],
   "source": [
    "def show_synthetic_dataset(X, y, name):\n",
    "    \"\"\"\n",
    "    Not pretty, but just to create an intuition for the data.\n",
    "    \"\"\"\n",
    "    s0y0 = X[(X[:,2] == 0) & (y == 0)][:,:2]\n",
    "    s0y1 = X[(X[:,2] == 0) & (y == 1)][:,:2]\n",
    "    s1y0 = X[(X[:,2] == 1) & (y == 0)][:,:2]\n",
    "    s1y1 = X[(X[:,2] == 1) & (y == 1)][:,:2]\n",
    "\n",
    "    plt.scatter(s0y0[:,0], s0y0[:,1], color=\"blue\", marker=\"v\", label=\"$s=0,y=0$\")\n",
    "    plt.scatter(s0y1[:,0], s0y1[:,1], color=\"blue\", marker=\"s\", label=\"$s=0,y=1$\")\n",
    "    plt.scatter(s1y0[:,0], s1y0[:,1], color=\"orange\", marker=\"v\", label=\"$s=1,y=0$\")\n",
    "    plt.scatter(s1y1[:,0], s1y1[:,1], color=\"orange\", marker=\"s\", label=\"$s=1,y=1$\")\n",
    "\n",
    "    plt.title(f'The distribution of the synthetic input data ${name}$')\n",
    "    plt.xlabel('$x_1$')\n",
    "    plt.ylabel('$x_2$')\n",
    "    plt.legend(loc='upper right')\n",
    "    plt.show()\n",
    "    \n",
    "show_synthetic_dataset(X=DA_input, y=DA_labels, name='D_A')\n",
    "show_synthetic_dataset(X=DB_input, y=DB_labels, name='D_B')"
   ]
  },
  {
   "cell_type": "markdown",
   "id": "aaa782ce-69e7-4e72-9660-6b982e98b305",
   "metadata": {},
   "source": [
    "### 3. Defining and Training Classifiers OR Loading them from Checkpoints\n",
    "\n",
    "The CERTIFAI code prefers torch neural network modules. To make these module work like normal logistic regression models, we use one linear forward layer with a sigmoid activation."
   ]
  },
  {
   "cell_type": "code",
   "execution_count": 53,
   "id": "c6b1ca99-c47d-4e87-a338-511716e9aec2",
   "metadata": {},
   "outputs": [],
   "source": [
    "class LogisticRegression(torch.nn.Module):\n",
    "    def __init__(self, input_dim, output_dim):\n",
    "        super(LogisticRegression, self).__init__()\n",
    "        self.linear = torch.nn.Linear(input_dim, output_dim)\n",
    "        \n",
    "    def forward(self, x):\n",
    "        outputs = torch.sigmoid(self.linear(x))\n",
    "        return outputs"
   ]
  },
  {
   "cell_type": "code",
   "execution_count": 54,
   "id": "8aec5213-b93f-4b3f-8592-4cf2abaad95d",
   "metadata": {},
   "outputs": [],
   "source": [
    "def train_classifier(dataset, X, labels, epochs=2000, lr=1e-3, input_dim=2, output_dim=2):\n",
    "    # !important: certifai expects the output to be one-hot encoded\n",
    "    y = np.column_stack((np.where(labels == 0, 1, 0), np.where(labels == 1, 1, 0)))\n",
    "    X_train = torch.Tensor(X)\n",
    "    y_train = torch.Tensor(y)\n",
    "\n",
    "    model = LogisticRegression(input_dim, output_dim)\n",
    "    loss_fn = torch.nn.BCELoss()\n",
    "    optimizer = torch.optim.SGD(model.parameters(), lr=lr)\n",
    "    \n",
    "    for _ in range(epochs):\n",
    "        optimizer.zero_grad()\n",
    "        outputs = model(X_train)\n",
    "        loss = loss_fn(torch.squeeze(outputs), y_train)\n",
    "        loss.backward()\n",
    "        optimizer.step()\n",
    "\n",
    "    pred = model(X_train)\n",
    "    print(f'accuracy on training: {sum(pred.detach().argmax(axis=-1) == y_train.argmax(axis=-1)) / len(y_train)}')\n",
    "    torch.save(model, MODEL_PATHS[dataset])\n",
    "    \n",
    "# train_classifier('syndata-A', DA_input[:,:2], DA_labels)\n",
    "# train_classifier('syndata-B', DB_input[:,:2], DB_labels)\n",
    "# train_classifier('taiwan', taiwan_input[:,:2], taiwan_labels)"
   ]
  },
  {
   "cell_type": "code",
   "execution_count": 55,
   "id": "c94ec90b-0f38-4b91-95fd-05b95fdca1f0",
   "metadata": {},
   "outputs": [],
   "source": [
    "def load_all_models():\n",
    "    models = {}\n",
    "    for ds, model in MODEL_PATHS.items():\n",
    "        models[ds] = torch.load(model)\n",
    "    return models\n",
    "\n",
    "models = load_all_models()"
   ]
  },
  {
   "cell_type": "markdown",
   "id": "3dd179f2-2527-4b75-922f-f575aec67571",
   "metadata": {},
   "source": [
    "### 4. Defining CERTIFAI and generating counterfactuals OR loading it from checkpoint"
   ]
  },
  {
   "cell_type": "code",
   "execution_count": 56,
   "id": "0ed89095-dd7d-4eea-88a9-20513237df98",
   "metadata": {},
   "outputs": [],
   "source": [
    "# TODO: delete?\n",
    "def data_from_certifai(cert, inputs, target):\n",
    "    df = cert.tab_dataset[inputs + [target]]\n",
    "    model_input = cert.transform_x_2_input(df, pytorch=True)\n",
    "    target = model_input[:,-1].long()\n",
    "    predictors = model_input[:,:2]\n",
    "    return torch.Tensor(predictors), torch.Tensor(target)"
   ]
  },
  {
   "cell_type": "code",
   "execution_count": 57,
   "id": "af8968e7-ca2d-4b7c-8a6c-104d8192aa51",
   "metadata": {},
   "outputs": [],
   "source": [
    "def train_certifai(model, dataname, model_input, protected_attribute, target):\n",
    "    cert = CERTIFAI.from_csv(CERTIFAI_INPUT_DATA[dataname])\n",
    "    cert.tab_dataset = cert.tab_dataset.drop(columns='y')\n",
    "    cert.Population = 60000\n",
    "    cert.fit(\n",
    "        model,\n",
    "        select_retain=10000,\n",
    "        gen_retain=5000,\n",
    "        model_input=torch.Tensor(model_input),\n",
    "        generations=10,\n",
    "        constrained=False,\n",
    "        class_specific=0, # !important we only care about the unfavorable outcome\n",
    "        verbose=True\n",
    "    )\n",
    "    # after fitting we can safely add back the protected attributes and targets\n",
    "    cert.tab_dataset['s'] = protected_attribute\n",
    "    cert.tab_dataset['favorable'] = target\n",
    "    cert.classifier = model\n",
    "    # !important nice to save the model within certifai\n",
    "    # this makes sure the model's parameters (decisicion boundary) are saved with\n",
    "    # the counterfactuals\n",
    "\n",
    "    with open(CERTIFAI_PICKLES[dataname], 'wb') as f:\n",
    "        pickle.dump(cert, f)\n",
    "\n",
    "# train_certifai(models['syndata-A'], 'syndata-A', DA_input[:,:2], DA_input[:,2], DA_labels)\n",
    "# train_certifai(models['syndata-B'], 'syndata-B', DB_input[:,:2], DB_input[:,2], DB_labels)\n",
    "# train_certifai(models['taiwan'], 'taiwan', taiwan_input[:,:-2], taiwan_input[:,-2], taiwan_labels)"
   ]
  },
  {
   "cell_type": "markdown",
   "id": "e936d339-e09d-4cff-b92b-787286dc2e1f",
   "metadata": {},
   "source": [
    "#### 4.2 Loading all pickled CERTIFAI class instances"
   ]
  },
  {
   "cell_type": "code",
   "execution_count": 151,
   "id": "e47f258c-d675-437c-aa7f-0f3b24efdd63",
   "metadata": {},
   "outputs": [],
   "source": [
    "def load_all_certs():\n",
    "    certs = {}\n",
    "    for ds, cert_pickle in CERTIFAI_PICKLES.items():\n",
    "        with open(cert_pickle, 'rb') as f:\n",
    "            certs[ds] = pickle.load(f)\n",
    "\n",
    "    return certs\n",
    "        \n",
    "certs = load_all_certs()"
   ]
  },
  {
   "cell_type": "markdown",
   "id": "ca11b901-9453-49ac-8e0b-16ce82612545",
   "metadata": {},
   "source": [
    "### 5. Burden results"
   ]
  },
  {
   "cell_type": "code",
   "execution_count": 176,
   "id": "0129f160-572a-4d2b-ac0a-b054a55cae73",
   "metadata": {},
   "outputs": [
    {
     "name": "stdout",
     "output_type": "stream",
     "text": [
      "syndata-A\n",
      "           0        1\n",
      "s  11.577682  4.64619\n",
      "\n",
      "syndata-B\n",
      "          0          1\n",
      "s  3.307706  10.954803\n",
      "\n",
      "taiwan\n",
      "          0         1\n",
      "s  1.428238  1.292059\n",
      "\n"
     ]
    }
   ],
   "source": [
    "def show_burden(cert, protected_attr, unfavorable_target=0):\n",
    "    \"\"\"\n",
    "    The check_fairness method of CERTIFAI is a bit weird. This function\n",
    "    converts it to a more clear output. It also handles a very important\n",
    "    thing, namely a bug in the CERTIFAI code. The code also calculates\n",
    "    the burden of a group over the members with a favorable outcome.\n",
    "    This should not be the case, and thus filters this function on\n",
    "    `favorable=0'.\n",
    "    \"\"\"\n",
    "    for attribute in protected_attr:\n",
    "        possible_vals = set(cert.tab_dataset[attribute])\n",
    "        fairness_checks = []\n",
    "        for val in possible_vals:\n",
    "            fairness_checks.append({attribute: val, 'favorable': unfavorable_target})\n",
    "        \n",
    "        fairness = cert.check_fairness(fairness_checks, normalised=True)\n",
    "        change_name = lambda x: x.split('=')[1].split('-')[0]\n",
    "        cols = list(map(change_name, fairness.keys()))\n",
    "        column_names = pd.DataFrame(fairness.values(), index=cols, columns=(attribute,))\n",
    "        return column_names.transpose()\n",
    "\n",
    "print('syndata-A', show_burden(certs['syndata-A'], ['s']), sep='\\n', end='\\n\\n')\n",
    "print('syndata-B', show_burden(certs['syndata-B'], ['s']), sep='\\n', end='\\n\\n')\n",
    "print('taiwan', show_burden(certs['taiwan'], ['s']), sep='\\n', end='\\n\\n')"
   ]
  },
  {
   "cell_type": "markdown",
   "id": "8f01c80e-6519-42b5-a1bc-139765e85db0",
   "metadata": {},
   "source": [
    "### 6. Visualizations as used in the paper\n",
    "\n",
    "The colored plots as well as the greyscale plots of the model's decision boundary, the counterfactuals and the original datapoints."
   ]
  },
  {
   "cell_type": "code",
   "execution_count": null,
   "id": "66b0049b-2d7f-4f8e-bdab-2d97cfdbe001",
   "metadata": {},
   "outputs": [],
   "source": [
    "def plot_counterfactuals(cert, filename):\n",
    "    # og is original point, cf is its counterfactual\n",
    "    for i, ((og, cf, _), (_, ds)) in enumerate(zip(cert.results, cert.tab_dataset.iterrows())):\n",
    "        ognp = np.array(og)\n",
    "        points = np.array([ognp[0], [cf[0][0], cf[0][1]]])\n",
    "        # points = np.array([ognp[0]])\n",
    "        if ds.s == 0:\n",
    "            mark = 'v'\n",
    "            color = '#911d56'\n",
    "        else:\n",
    "            mark = 's'\n",
    "            color = '#6686c3'\n",
    "\n",
    "        # only plot CF's for unfavorable class\n",
    "        if ds.favorable == 0:\n",
    "            plt.plot(points[:,0], points[:,1], alpha=0.4, color=color, ls=':')\n",
    "            plt.scatter(*points[1], marker='x', color=color, label='Counterfactual' if i == 0 else \"\")\n",
    "        plt.scatter(*ognp[0], marker=mark, color=color, label=f'$s={int(ds.s)}$' if i in (0, 20) else \"\")\n",
    "\n",
    "    ymin = -3\n",
    "    ymax = 12\n",
    "\n",
    "    xmin = -2\n",
    "    xmax = 12.5\n",
    "    \n",
    "    # plot the decision boundary using model weights\n",
    "    w1, w2 = cert.classifier.get_parameter('linear.weight')[0].detach().numpy()\n",
    "    b = -cert.classifier.get_parameter('linear.bias')[0].detach().numpy()\n",
    "    x_dec_bound = [xmin, xmax]\n",
    "    y_dec_bound = [(b - 0.5 - x1 * w1) / w2 for x1 in [xmin, xmax]]\n",
    "    \n",
    "    plt.plot(x_dec_bound, y_dec_bound, 'k', lw=1, ls='--', label='decision boundary')\n",
    "    plt.fill_between(x_dec_bound, y_dec_bound, ymin, color='tab:green', alpha=0.07)\n",
    "    plt.fill_between(x_dec_bound, y_dec_bound, ymax, color='tab:red', alpha=0.07)\n",
    "    plt.text(xmax - 3.5, ymin + 0.5, 'Favorable (+)', fontsize=11)\n",
    "    plt.text(xmin + 0.2, ymax - 1, 'Unfavorable (-)', fontsize=11)\n",
    "\n",
    "    plt.ylim([ymin, ymax])\n",
    "    plt.xlim([xmin, xmax])\n",
    "    plt.xlabel('$x_1$')\n",
    "    plt.ylabel('$x_2$')\n",
    "    plt.legend()\n",
    "    \n",
    "    plt.savefig(filename, dpi=1200)\n",
    "    plt.show()\n",
    "\n",
    "plot_counterfactuals(certs['syndata-A'], filename='img/syndata-A.pdf')\n",
    "plot_counterfactuals(certs['syndata-B'], filename='img/syndata-B.pdf')"
   ]
  },
  {
   "cell_type": "code",
   "execution_count": null,
   "id": "e3db05cc-769d-445f-ac22-1088a31c9abd",
   "metadata": {},
   "outputs": [],
   "source": [
    "def plot_counterfactuals_bw(cert, filename):\n",
    "    # og is original point, cf is its counterfactual\n",
    "    for i, ((og, cf, _), (_, ds)) in enumerate(zip(cert.results, cert.tab_dataset.iterrows())):\n",
    "        ognp = np.array(og)\n",
    "        points = np.array([ognp[0], [cf[0][0], cf[0][1]]])\n",
    "        if ds.s == 0:\n",
    "            mark = 'v'\n",
    "            color = 'grey'\n",
    "        else:\n",
    "            mark = 's'\n",
    "            color = 'black'\n",
    "\n",
    "        # only plot CF's for unfavorable class\n",
    "        if ds.favorable == 0:\n",
    "            plt.plot(points[:,0], points[:,1], alpha=0.4, color=color, ls=':')\n",
    "            plt.scatter(*points[1], marker='x', color=color, label='Counterfactual' if i == 0 else \"\")\n",
    "        plt.scatter(*ognp[0], marker=mark, color=color, label=f'$s={int(ds.s)}$' if i in (0, 20) else \"\")\n",
    "\n",
    "    ymin = -3\n",
    "    ymax = 12\n",
    "\n",
    "    xmin = -2\n",
    "    xmax = 12.5\n",
    "\n",
    "    # plot the decision boundary using model weights\n",
    "    w1, w2 = cert.classifier.get_parameter('linear.weight')[0].detach().numpy()\n",
    "    b = -cert.classifier.get_parameter('linear.bias')[0].detach().numpy()\n",
    "    x_dec_bound = [xmin, xmax]\n",
    "    y_dec_bound = [(b - 0.5 - x1 * w1) / w2 for x1 in x_dec_bound]\n",
    "    \n",
    "    plt.plot(x_dec_bound, y_dec_bound, 'k', lw=1, ls='--', label='decision boundary')\n",
    "    plt.fill_between(x_dec_bound, y_dec_bound, ymin, hatch='///', alpha=0.1, color='white', edgecolor='black', zorder=0.5)\n",
    "    plt.fill_between(x_dec_bound, y_dec_bound, ymax, hatch=r'|||', alpha=0.1, color='white', edgecolor='black', zorder=0.5)\n",
    "    plt.text(xmax - 3.5, ymin + 0.5, 'Favorable (+)', fontsize=11)\n",
    "    plt.text(xmin + 0.2, ymax - 1, 'Unfavorable (-)', fontsize=11)\n",
    "\n",
    "    plt.ylim([ymin, ymax])\n",
    "    plt.xlim([xmin, xmax])\n",
    "    plt.xlabel('$x_1$')\n",
    "    plt.ylabel('$x_2$')\n",
    "    plt.legend()\n",
    "    \n",
    "    plt.savefig(filename, dpi=1200)\n",
    "    plt.show()\n",
    "\n",
    "plot_counterfactuals_bw(certs['syndata-A'], filename='img/syndata-A-bw.pdf')\n",
    "plot_counterfactuals_bw(certs['syndata-B'], filename='img/syndata-B-bw.pdf')"
   ]
  },
  {
   "cell_type": "code",
   "execution_count": 177,
   "id": "67ae4105-e4f6-40df-b99b-180f42270a83",
   "metadata": {},
   "outputs": [],
   "source": [
    "def statistical_parity(model, input_df, inputs, sens_attr, favorable_target=1):\n",
    "    \"\"\"\n",
    "    Calculate P[pred == 1 | sens_attr == 0] and P[pred == 1 | sens_attr == 1]\n",
    "    and return these two values. pred is the prediction of the model.\n",
    "    \"\"\"\n",
    "    df = input_df.copy()\n",
    "    model_input = torch.Tensor(df.drop([sens_attr, 'favorable'], axis=1).to_numpy())\n",
    "    df['pred'] = model(model_input).detach().numpy().argmax(axis=-1)\n",
    "    if favorable_target == 0:\n",
    "        return 1 - df[df[sens_attr] == 0].pred.mean(), 1 - df[df[sens_attr] == 1].pred.mean()\n",
    "    return df[df[sens_attr] == 0].pred.mean(), df[df[sens_attr] == 1].pred.mean()\n",
    "\n",
    "def add_dataset_row(table, model, cert, inputs, sens_attr, name, favorable_target=1):\n",
    "    cols = table.columns\n",
    "    \n",
    "    # calculate statistical parity\n",
    "    sp0, sp1 = statistical_parity(model, cert.tab_dataset, inputs, sens_attr, favorable_target)\n",
    "    \n",
    "    # calculate burden\n",
    "    bu0, bu1 = show_burden(cert, sens_attr, 1 - favorable_target).to_numpy()[0]\n",
    "\n",
    "    # construct row\n",
    "    row = pd.DataFrame([[sp0, sp1, sp0 / sp1,\n",
    "                         bu0, bu1, bu0 / bu1]],\n",
    "                       columns=cols,\n",
    "                       index=(name,))\n",
    "    return table.append(row)"
   ]
  },
  {
   "cell_type": "code",
   "execution_count": 178,
   "id": "5ffe7c32-7554-4c8a-904a-736e3664ae15",
   "metadata": {},
   "outputs": [
    {
     "data": {
      "text/html": [
       "<div>\n",
       "<style scoped>\n",
       "    .dataframe tbody tr th:only-of-type {\n",
       "        vertical-align: middle;\n",
       "    }\n",
       "\n",
       "    .dataframe tbody tr th {\n",
       "        vertical-align: top;\n",
       "    }\n",
       "\n",
       "    .dataframe thead th {\n",
       "        text-align: right;\n",
       "    }\n",
       "</style>\n",
       "<table border=\"1\" class=\"dataframe\">\n",
       "  <thead>\n",
       "    <tr style=\"text-align: right;\">\n",
       "      <th></th>\n",
       "      <th>S=0</th>\n",
       "      <th>S=1</th>\n",
       "      <th>SP 0/1</th>\n",
       "      <th>S=0</th>\n",
       "      <th>S=1</th>\n",
       "      <th>Burden 0/1</th>\n",
       "    </tr>\n",
       "  </thead>\n",
       "  <tbody>\n",
       "    <tr>\n",
       "      <th>Taiwan</th>\n",
       "      <td>0.967</td>\n",
       "      <td>0.948</td>\n",
       "      <td>1.020</td>\n",
       "      <td>1.383</td>\n",
       "      <td>0.940</td>\n",
       "      <td>1.471</td>\n",
       "    </tr>\n",
       "    <tr>\n",
       "      <th>Syn. Data $D_A$</th>\n",
       "      <td>0.500</td>\n",
       "      <td>0.500</td>\n",
       "      <td>1.000</td>\n",
       "      <td>11.578</td>\n",
       "      <td>4.646</td>\n",
       "      <td>2.492</td>\n",
       "    </tr>\n",
       "    <tr>\n",
       "      <th>Syn. Data $D_B$</th>\n",
       "      <td>0.571</td>\n",
       "      <td>0.667</td>\n",
       "      <td>0.857</td>\n",
       "      <td>3.308</td>\n",
       "      <td>10.955</td>\n",
       "      <td>0.302</td>\n",
       "    </tr>\n",
       "  </tbody>\n",
       "</table>\n",
       "</div>"
      ],
      "text/plain": [
       "                   S=0    S=1  SP 0/1     S=0     S=1  Burden 0/1\n",
       "Taiwan           0.967  0.948   1.020   1.383   0.940       1.471\n",
       "Syn. Data $D_A$  0.500  0.500   1.000  11.578   4.646       2.492\n",
       "Syn. Data $D_B$  0.571  0.667   0.857   3.308  10.955       0.302"
      ]
     },
     "execution_count": 178,
     "metadata": {},
     "output_type": "execute_result"
    }
   ],
   "source": [
    "table = pd.DataFrame(columns=(\n",
    "    'S=0',\n",
    "    'S=1',\n",
    "    'SP 0/1',\n",
    "    'S=0',\n",
    "    'S=1',\n",
    "    'Burden 0/1'\n",
    "))\n",
    "\n",
    "taiwan_input_names = certs['taiwan'].tab_dataset.drop(['s','favorable'], axis=1).columns\n",
    "table = add_dataset_row(table, models['taiwan'], certs['taiwan'], taiwan_input_names, 's', 'Taiwan', favorable_target=0)\n",
    "table = add_dataset_row(table, models['syndata-A'], certs['syndata-A'], ['x1', 'x2'], 's', 'Syn. Data $D_A$')\n",
    "table = add_dataset_row(table, models['syndata-B'], certs['syndata-B'], ['x1', 'x2'], 's', 'Syn. Data $D_B$')\n",
    "table = table.round(3)\n",
    "\n",
    "table.to_latex('img/table.tex') \n",
    "table\n"
   ]
  },
  {
   "cell_type": "code",
   "execution_count": null,
   "id": "471ecdc6-9ac9-441c-ade6-5c3c129931a7",
   "metadata": {},
   "outputs": [],
   "source": []
  }
 ],
 "metadata": {
  "kernelspec": {
   "display_name": "hcml",
   "language": "python",
   "name": "hcml"
  },
  "language_info": {
   "codemirror_mode": {
    "name": "ipython",
    "version": 3
   },
   "file_extension": ".py",
   "mimetype": "text/x-python",
   "name": "python",
   "nbconvert_exporter": "python",
   "pygments_lexer": "ipython3",
   "version": "3.7.13"
  }
 },
 "nbformat": 4,
 "nbformat_minor": 5
}
